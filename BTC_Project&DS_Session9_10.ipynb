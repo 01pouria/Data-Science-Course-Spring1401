{
  "nbformat": 4,
  "nbformat_minor": 0,
  "metadata": {
    "colab": {
      "name": "BTC -Project&DS-Session9-10.ipynb",
      "provenance": []
    },
    "kernelspec": {
      "name": "python3",
      "display_name": "Python 3"
    },
    "language_info": {
      "name": "python"
    }
  },
  "cells": [
    {
      "cell_type": "code",
      "execution_count": null,
      "metadata": {
        "id": "GeaEzgi5rgE0"
      },
      "outputs": [],
      "source": [
        "import numpy as np\n",
        "import pandas as pd\n",
        "import matplotlib.pyplot as plt\n",
        "from sklearn.linear_model import LinearRegression\n",
        "import seaborn as sns"
      ]
    },
    {
      "cell_type": "code",
      "source": [
        "btc=pd.read_csv('/content/drive/MyDrive/btc.csv')\n",
        "tsla=pd.read_csv('/content/drive/MyDrive/tesla.csv')"
      ],
      "metadata": {
        "id": "HI6INJh2uFPw"
      },
      "execution_count": null,
      "outputs": []
    },
    {
      "cell_type": "code",
      "source": [
        "btc"
      ],
      "metadata": {
        "colab": {
          "base_uri": "https://localhost:8080/",
          "height": 423
        },
        "id": "BcDELWG3uXpn",
        "outputId": "ab49f04d-862f-4775-b56a-f1677b6c2e96"
      },
      "execution_count": null,
      "outputs": [
        {
          "output_type": "execute_result",
          "data": {
            "text/plain": [
              "            date     1. open     2. high      3. low    4. close  5. volume\n",
              "0     2021-11-11  64891.1375  65596.8454  64098.4651  64785.3826    47337.0\n",
              "1     2021-11-10  66944.8576  68990.6665  63319.6921  64897.4985    61210.0\n",
              "2     2021-11-09  67531.9826  68522.0065  66326.9613  66942.3801    52140.0\n",
              "3     2021-11-08  63283.3131  67772.6291  63283.3068  67532.2386    65777.0\n",
              "4     2021-11-07  61486.5858  63293.6064  61345.1077  63280.0615    34366.0\n",
              "...          ...         ...         ...         ...         ...        ...\n",
              "3700  2011-08-23     11.7000     11.7000     11.7000     11.7000        0.0\n",
              "3701  2011-08-22     11.7000     11.7000     11.7000     11.7000        0.0\n",
              "3702  2011-08-21     11.7000     11.7000     11.7000     11.7000        0.0\n",
              "3703  2011-08-20     11.8500     11.8500     11.1500     11.6900        1.0\n",
              "3704  2011-08-19     10.9000     10.9000     10.9000     10.9000        0.0\n",
              "\n",
              "[3705 rows x 6 columns]"
            ],
            "text/html": [
              "\n",
              "  <div id=\"df-fed4140b-aced-42fe-810f-326a36dd4845\">\n",
              "    <div class=\"colab-df-container\">\n",
              "      <div>\n",
              "<style scoped>\n",
              "    .dataframe tbody tr th:only-of-type {\n",
              "        vertical-align: middle;\n",
              "    }\n",
              "\n",
              "    .dataframe tbody tr th {\n",
              "        vertical-align: top;\n",
              "    }\n",
              "\n",
              "    .dataframe thead th {\n",
              "        text-align: right;\n",
              "    }\n",
              "</style>\n",
              "<table border=\"1\" class=\"dataframe\">\n",
              "  <thead>\n",
              "    <tr style=\"text-align: right;\">\n",
              "      <th></th>\n",
              "      <th>date</th>\n",
              "      <th>1. open</th>\n",
              "      <th>2. high</th>\n",
              "      <th>3. low</th>\n",
              "      <th>4. close</th>\n",
              "      <th>5. volume</th>\n",
              "    </tr>\n",
              "  </thead>\n",
              "  <tbody>\n",
              "    <tr>\n",
              "      <th>0</th>\n",
              "      <td>2021-11-11</td>\n",
              "      <td>64891.1375</td>\n",
              "      <td>65596.8454</td>\n",
              "      <td>64098.4651</td>\n",
              "      <td>64785.3826</td>\n",
              "      <td>47337.0</td>\n",
              "    </tr>\n",
              "    <tr>\n",
              "      <th>1</th>\n",
              "      <td>2021-11-10</td>\n",
              "      <td>66944.8576</td>\n",
              "      <td>68990.6665</td>\n",
              "      <td>63319.6921</td>\n",
              "      <td>64897.4985</td>\n",
              "      <td>61210.0</td>\n",
              "    </tr>\n",
              "    <tr>\n",
              "      <th>2</th>\n",
              "      <td>2021-11-09</td>\n",
              "      <td>67531.9826</td>\n",
              "      <td>68522.0065</td>\n",
              "      <td>66326.9613</td>\n",
              "      <td>66942.3801</td>\n",
              "      <td>52140.0</td>\n",
              "    </tr>\n",
              "    <tr>\n",
              "      <th>3</th>\n",
              "      <td>2021-11-08</td>\n",
              "      <td>63283.3131</td>\n",
              "      <td>67772.6291</td>\n",
              "      <td>63283.3068</td>\n",
              "      <td>67532.2386</td>\n",
              "      <td>65777.0</td>\n",
              "    </tr>\n",
              "    <tr>\n",
              "      <th>4</th>\n",
              "      <td>2021-11-07</td>\n",
              "      <td>61486.5858</td>\n",
              "      <td>63293.6064</td>\n",
              "      <td>61345.1077</td>\n",
              "      <td>63280.0615</td>\n",
              "      <td>34366.0</td>\n",
              "    </tr>\n",
              "    <tr>\n",
              "      <th>...</th>\n",
              "      <td>...</td>\n",
              "      <td>...</td>\n",
              "      <td>...</td>\n",
              "      <td>...</td>\n",
              "      <td>...</td>\n",
              "      <td>...</td>\n",
              "    </tr>\n",
              "    <tr>\n",
              "      <th>3700</th>\n",
              "      <td>2011-08-23</td>\n",
              "      <td>11.7000</td>\n",
              "      <td>11.7000</td>\n",
              "      <td>11.7000</td>\n",
              "      <td>11.7000</td>\n",
              "      <td>0.0</td>\n",
              "    </tr>\n",
              "    <tr>\n",
              "      <th>3701</th>\n",
              "      <td>2011-08-22</td>\n",
              "      <td>11.7000</td>\n",
              "      <td>11.7000</td>\n",
              "      <td>11.7000</td>\n",
              "      <td>11.7000</td>\n",
              "      <td>0.0</td>\n",
              "    </tr>\n",
              "    <tr>\n",
              "      <th>3702</th>\n",
              "      <td>2011-08-21</td>\n",
              "      <td>11.7000</td>\n",
              "      <td>11.7000</td>\n",
              "      <td>11.7000</td>\n",
              "      <td>11.7000</td>\n",
              "      <td>0.0</td>\n",
              "    </tr>\n",
              "    <tr>\n",
              "      <th>3703</th>\n",
              "      <td>2011-08-20</td>\n",
              "      <td>11.8500</td>\n",
              "      <td>11.8500</td>\n",
              "      <td>11.1500</td>\n",
              "      <td>11.6900</td>\n",
              "      <td>1.0</td>\n",
              "    </tr>\n",
              "    <tr>\n",
              "      <th>3704</th>\n",
              "      <td>2011-08-19</td>\n",
              "      <td>10.9000</td>\n",
              "      <td>10.9000</td>\n",
              "      <td>10.9000</td>\n",
              "      <td>10.9000</td>\n",
              "      <td>0.0</td>\n",
              "    </tr>\n",
              "  </tbody>\n",
              "</table>\n",
              "<p>3705 rows × 6 columns</p>\n",
              "</div>\n",
              "      <button class=\"colab-df-convert\" onclick=\"convertToInteractive('df-fed4140b-aced-42fe-810f-326a36dd4845')\"\n",
              "              title=\"Convert this dataframe to an interactive table.\"\n",
              "              style=\"display:none;\">\n",
              "        \n",
              "  <svg xmlns=\"http://www.w3.org/2000/svg\" height=\"24px\"viewBox=\"0 0 24 24\"\n",
              "       width=\"24px\">\n",
              "    <path d=\"M0 0h24v24H0V0z\" fill=\"none\"/>\n",
              "    <path d=\"M18.56 5.44l.94 2.06.94-2.06 2.06-.94-2.06-.94-.94-2.06-.94 2.06-2.06.94zm-11 1L8.5 8.5l.94-2.06 2.06-.94-2.06-.94L8.5 2.5l-.94 2.06-2.06.94zm10 10l.94 2.06.94-2.06 2.06-.94-2.06-.94-.94-2.06-.94 2.06-2.06.94z\"/><path d=\"M17.41 7.96l-1.37-1.37c-.4-.4-.92-.59-1.43-.59-.52 0-1.04.2-1.43.59L10.3 9.45l-7.72 7.72c-.78.78-.78 2.05 0 2.83L4 21.41c.39.39.9.59 1.41.59.51 0 1.02-.2 1.41-.59l7.78-7.78 2.81-2.81c.8-.78.8-2.07 0-2.86zM5.41 20L4 18.59l7.72-7.72 1.47 1.35L5.41 20z\"/>\n",
              "  </svg>\n",
              "      </button>\n",
              "      \n",
              "  <style>\n",
              "    .colab-df-container {\n",
              "      display:flex;\n",
              "      flex-wrap:wrap;\n",
              "      gap: 12px;\n",
              "    }\n",
              "\n",
              "    .colab-df-convert {\n",
              "      background-color: #E8F0FE;\n",
              "      border: none;\n",
              "      border-radius: 50%;\n",
              "      cursor: pointer;\n",
              "      display: none;\n",
              "      fill: #1967D2;\n",
              "      height: 32px;\n",
              "      padding: 0 0 0 0;\n",
              "      width: 32px;\n",
              "    }\n",
              "\n",
              "    .colab-df-convert:hover {\n",
              "      background-color: #E2EBFA;\n",
              "      box-shadow: 0px 1px 2px rgba(60, 64, 67, 0.3), 0px 1px 3px 1px rgba(60, 64, 67, 0.15);\n",
              "      fill: #174EA6;\n",
              "    }\n",
              "\n",
              "    [theme=dark] .colab-df-convert {\n",
              "      background-color: #3B4455;\n",
              "      fill: #D2E3FC;\n",
              "    }\n",
              "\n",
              "    [theme=dark] .colab-df-convert:hover {\n",
              "      background-color: #434B5C;\n",
              "      box-shadow: 0px 1px 3px 1px rgba(0, 0, 0, 0.15);\n",
              "      filter: drop-shadow(0px 1px 2px rgba(0, 0, 0, 0.3));\n",
              "      fill: #FFFFFF;\n",
              "    }\n",
              "  </style>\n",
              "\n",
              "      <script>\n",
              "        const buttonEl =\n",
              "          document.querySelector('#df-fed4140b-aced-42fe-810f-326a36dd4845 button.colab-df-convert');\n",
              "        buttonEl.style.display =\n",
              "          google.colab.kernel.accessAllowed ? 'block' : 'none';\n",
              "\n",
              "        async function convertToInteractive(key) {\n",
              "          const element = document.querySelector('#df-fed4140b-aced-42fe-810f-326a36dd4845');\n",
              "          const dataTable =\n",
              "            await google.colab.kernel.invokeFunction('convertToInteractive',\n",
              "                                                     [key], {});\n",
              "          if (!dataTable) return;\n",
              "\n",
              "          const docLinkHtml = 'Like what you see? Visit the ' +\n",
              "            '<a target=\"_blank\" href=https://colab.research.google.com/notebooks/data_table.ipynb>data table notebook</a>'\n",
              "            + ' to learn more about interactive tables.';\n",
              "          element.innerHTML = '';\n",
              "          dataTable['output_type'] = 'display_data';\n",
              "          await google.colab.output.renderOutput(dataTable, element);\n",
              "          const docLink = document.createElement('div');\n",
              "          docLink.innerHTML = docLinkHtml;\n",
              "          element.appendChild(docLink);\n",
              "        }\n",
              "      </script>\n",
              "    </div>\n",
              "  </div>\n",
              "  "
            ]
          },
          "metadata": {},
          "execution_count": 3
        }
      ]
    },
    {
      "cell_type": "code",
      "source": [
        "tsla"
      ],
      "metadata": {
        "colab": {
          "base_uri": "https://localhost:8080/",
          "height": 423
        },
        "id": "RPQ5FZuWujxX",
        "outputId": "0655a77d-6f9e-4272-d442-eb9996fb03cb"
      },
      "execution_count": null,
      "outputs": [
        {
          "output_type": "execute_result",
          "data": {
            "text/plain": [
              "            date   1. open    2. high   3. low  4. close   5. volume\n",
              "0     2021-11-11  1102.770  1104.9700  1054.68   1063.51  22174016.0\n",
              "1     2021-11-10  1010.410  1078.1000   987.31   1067.95  42802722.0\n",
              "2     2021-11-09  1173.600  1174.5000  1011.52   1023.50  58525547.0\n",
              "3     2021-11-08  1149.785  1197.0000  1133.00   1162.94  33445715.0\n",
              "4     2021-11-05  1228.000  1239.8700  1208.00   1222.09  21628812.0\n",
              "...          ...       ...        ...      ...       ...         ...\n",
              "2860  2010-07-06    20.000    20.0000    15.83     16.11   6866900.0\n",
              "2861  2010-07-02    23.000    23.1000    18.71     19.20   5139800.0\n",
              "2862  2010-07-01    25.000    25.9200    20.27     21.96   8218800.0\n",
              "2863  2010-06-30    25.790    30.4192    23.30     23.83  17187100.0\n",
              "2864  2010-06-29    19.000    25.0000    17.54     23.89  18766300.0\n",
              "\n",
              "[2865 rows x 6 columns]"
            ],
            "text/html": [
              "\n",
              "  <div id=\"df-a7550bee-e010-4923-9c23-47a921f548dc\">\n",
              "    <div class=\"colab-df-container\">\n",
              "      <div>\n",
              "<style scoped>\n",
              "    .dataframe tbody tr th:only-of-type {\n",
              "        vertical-align: middle;\n",
              "    }\n",
              "\n",
              "    .dataframe tbody tr th {\n",
              "        vertical-align: top;\n",
              "    }\n",
              "\n",
              "    .dataframe thead th {\n",
              "        text-align: right;\n",
              "    }\n",
              "</style>\n",
              "<table border=\"1\" class=\"dataframe\">\n",
              "  <thead>\n",
              "    <tr style=\"text-align: right;\">\n",
              "      <th></th>\n",
              "      <th>date</th>\n",
              "      <th>1. open</th>\n",
              "      <th>2. high</th>\n",
              "      <th>3. low</th>\n",
              "      <th>4. close</th>\n",
              "      <th>5. volume</th>\n",
              "    </tr>\n",
              "  </thead>\n",
              "  <tbody>\n",
              "    <tr>\n",
              "      <th>0</th>\n",
              "      <td>2021-11-11</td>\n",
              "      <td>1102.770</td>\n",
              "      <td>1104.9700</td>\n",
              "      <td>1054.68</td>\n",
              "      <td>1063.51</td>\n",
              "      <td>22174016.0</td>\n",
              "    </tr>\n",
              "    <tr>\n",
              "      <th>1</th>\n",
              "      <td>2021-11-10</td>\n",
              "      <td>1010.410</td>\n",
              "      <td>1078.1000</td>\n",
              "      <td>987.31</td>\n",
              "      <td>1067.95</td>\n",
              "      <td>42802722.0</td>\n",
              "    </tr>\n",
              "    <tr>\n",
              "      <th>2</th>\n",
              "      <td>2021-11-09</td>\n",
              "      <td>1173.600</td>\n",
              "      <td>1174.5000</td>\n",
              "      <td>1011.52</td>\n",
              "      <td>1023.50</td>\n",
              "      <td>58525547.0</td>\n",
              "    </tr>\n",
              "    <tr>\n",
              "      <th>3</th>\n",
              "      <td>2021-11-08</td>\n",
              "      <td>1149.785</td>\n",
              "      <td>1197.0000</td>\n",
              "      <td>1133.00</td>\n",
              "      <td>1162.94</td>\n",
              "      <td>33445715.0</td>\n",
              "    </tr>\n",
              "    <tr>\n",
              "      <th>4</th>\n",
              "      <td>2021-11-05</td>\n",
              "      <td>1228.000</td>\n",
              "      <td>1239.8700</td>\n",
              "      <td>1208.00</td>\n",
              "      <td>1222.09</td>\n",
              "      <td>21628812.0</td>\n",
              "    </tr>\n",
              "    <tr>\n",
              "      <th>...</th>\n",
              "      <td>...</td>\n",
              "      <td>...</td>\n",
              "      <td>...</td>\n",
              "      <td>...</td>\n",
              "      <td>...</td>\n",
              "      <td>...</td>\n",
              "    </tr>\n",
              "    <tr>\n",
              "      <th>2860</th>\n",
              "      <td>2010-07-06</td>\n",
              "      <td>20.000</td>\n",
              "      <td>20.0000</td>\n",
              "      <td>15.83</td>\n",
              "      <td>16.11</td>\n",
              "      <td>6866900.0</td>\n",
              "    </tr>\n",
              "    <tr>\n",
              "      <th>2861</th>\n",
              "      <td>2010-07-02</td>\n",
              "      <td>23.000</td>\n",
              "      <td>23.1000</td>\n",
              "      <td>18.71</td>\n",
              "      <td>19.20</td>\n",
              "      <td>5139800.0</td>\n",
              "    </tr>\n",
              "    <tr>\n",
              "      <th>2862</th>\n",
              "      <td>2010-07-01</td>\n",
              "      <td>25.000</td>\n",
              "      <td>25.9200</td>\n",
              "      <td>20.27</td>\n",
              "      <td>21.96</td>\n",
              "      <td>8218800.0</td>\n",
              "    </tr>\n",
              "    <tr>\n",
              "      <th>2863</th>\n",
              "      <td>2010-06-30</td>\n",
              "      <td>25.790</td>\n",
              "      <td>30.4192</td>\n",
              "      <td>23.30</td>\n",
              "      <td>23.83</td>\n",
              "      <td>17187100.0</td>\n",
              "    </tr>\n",
              "    <tr>\n",
              "      <th>2864</th>\n",
              "      <td>2010-06-29</td>\n",
              "      <td>19.000</td>\n",
              "      <td>25.0000</td>\n",
              "      <td>17.54</td>\n",
              "      <td>23.89</td>\n",
              "      <td>18766300.0</td>\n",
              "    </tr>\n",
              "  </tbody>\n",
              "</table>\n",
              "<p>2865 rows × 6 columns</p>\n",
              "</div>\n",
              "      <button class=\"colab-df-convert\" onclick=\"convertToInteractive('df-a7550bee-e010-4923-9c23-47a921f548dc')\"\n",
              "              title=\"Convert this dataframe to an interactive table.\"\n",
              "              style=\"display:none;\">\n",
              "        \n",
              "  <svg xmlns=\"http://www.w3.org/2000/svg\" height=\"24px\"viewBox=\"0 0 24 24\"\n",
              "       width=\"24px\">\n",
              "    <path d=\"M0 0h24v24H0V0z\" fill=\"none\"/>\n",
              "    <path d=\"M18.56 5.44l.94 2.06.94-2.06 2.06-.94-2.06-.94-.94-2.06-.94 2.06-2.06.94zm-11 1L8.5 8.5l.94-2.06 2.06-.94-2.06-.94L8.5 2.5l-.94 2.06-2.06.94zm10 10l.94 2.06.94-2.06 2.06-.94-2.06-.94-.94-2.06-.94 2.06-2.06.94z\"/><path d=\"M17.41 7.96l-1.37-1.37c-.4-.4-.92-.59-1.43-.59-.52 0-1.04.2-1.43.59L10.3 9.45l-7.72 7.72c-.78.78-.78 2.05 0 2.83L4 21.41c.39.39.9.59 1.41.59.51 0 1.02-.2 1.41-.59l7.78-7.78 2.81-2.81c.8-.78.8-2.07 0-2.86zM5.41 20L4 18.59l7.72-7.72 1.47 1.35L5.41 20z\"/>\n",
              "  </svg>\n",
              "      </button>\n",
              "      \n",
              "  <style>\n",
              "    .colab-df-container {\n",
              "      display:flex;\n",
              "      flex-wrap:wrap;\n",
              "      gap: 12px;\n",
              "    }\n",
              "\n",
              "    .colab-df-convert {\n",
              "      background-color: #E8F0FE;\n",
              "      border: none;\n",
              "      border-radius: 50%;\n",
              "      cursor: pointer;\n",
              "      display: none;\n",
              "      fill: #1967D2;\n",
              "      height: 32px;\n",
              "      padding: 0 0 0 0;\n",
              "      width: 32px;\n",
              "    }\n",
              "\n",
              "    .colab-df-convert:hover {\n",
              "      background-color: #E2EBFA;\n",
              "      box-shadow: 0px 1px 2px rgba(60, 64, 67, 0.3), 0px 1px 3px 1px rgba(60, 64, 67, 0.15);\n",
              "      fill: #174EA6;\n",
              "    }\n",
              "\n",
              "    [theme=dark] .colab-df-convert {\n",
              "      background-color: #3B4455;\n",
              "      fill: #D2E3FC;\n",
              "    }\n",
              "\n",
              "    [theme=dark] .colab-df-convert:hover {\n",
              "      background-color: #434B5C;\n",
              "      box-shadow: 0px 1px 3px 1px rgba(0, 0, 0, 0.15);\n",
              "      filter: drop-shadow(0px 1px 2px rgba(0, 0, 0, 0.3));\n",
              "      fill: #FFFFFF;\n",
              "    }\n",
              "  </style>\n",
              "\n",
              "      <script>\n",
              "        const buttonEl =\n",
              "          document.querySelector('#df-a7550bee-e010-4923-9c23-47a921f548dc button.colab-df-convert');\n",
              "        buttonEl.style.display =\n",
              "          google.colab.kernel.accessAllowed ? 'block' : 'none';\n",
              "\n",
              "        async function convertToInteractive(key) {\n",
              "          const element = document.querySelector('#df-a7550bee-e010-4923-9c23-47a921f548dc');\n",
              "          const dataTable =\n",
              "            await google.colab.kernel.invokeFunction('convertToInteractive',\n",
              "                                                     [key], {});\n",
              "          if (!dataTable) return;\n",
              "\n",
              "          const docLinkHtml = 'Like what you see? Visit the ' +\n",
              "            '<a target=\"_blank\" href=https://colab.research.google.com/notebooks/data_table.ipynb>data table notebook</a>'\n",
              "            + ' to learn more about interactive tables.';\n",
              "          element.innerHTML = '';\n",
              "          dataTable['output_type'] = 'display_data';\n",
              "          await google.colab.output.renderOutput(dataTable, element);\n",
              "          const docLink = document.createElement('div');\n",
              "          docLink.innerHTML = docLinkHtml;\n",
              "          element.appendChild(docLink);\n",
              "        }\n",
              "      </script>\n",
              "    </div>\n",
              "  </div>\n",
              "  "
            ]
          },
          "metadata": {},
          "execution_count": 4
        }
      ]
    },
    {
      "cell_type": "code",
      "source": [
        "close_btc=btc['4. close'].values\n",
        "close_btc=close_btc[::-1]\n",
        "close_tsla=tsla['4. close'].values\n",
        "close_tsla=close_tsla[::-1]"
      ],
      "metadata": {
        "id": "FF1GRKObuqaA"
      },
      "execution_count": null,
      "outputs": []
    },
    {
      "cell_type": "code",
      "source": [
        "close_btc.shape,close_tsla.shape"
      ],
      "metadata": {
        "colab": {
          "base_uri": "https://localhost:8080/"
        },
        "id": "v0nQ508ZvK8P",
        "outputId": "6fb116e0-04a8-4970-dcd5-0c1371664bdb"
      },
      "execution_count": null,
      "outputs": [
        {
          "output_type": "execute_result",
          "data": {
            "text/plain": [
              "((3705,), (2865,))"
            ]
          },
          "metadata": {},
          "execution_count": 6
        }
      ]
    },
    {
      "cell_type": "code",
      "source": [
        "close_btc=btc['4. close'].values[:2800]\n",
        "close_btc=close_btc[::-1]\n",
        "close_tsla=tsla['4. close'].values[:2800]\n",
        "close_tsla=close_tsla[::-1]"
      ],
      "metadata": {
        "id": "rJGyjReBvTOv"
      },
      "execution_count": null,
      "outputs": []
    },
    {
      "cell_type": "code",
      "source": [
        "from scipy.stats import pearsonr\n",
        "p_coeef,p_value=pearsonr(close_btc,close_tsla)"
      ],
      "metadata": {
        "id": "1JlWeZvxvXnP"
      },
      "execution_count": null,
      "outputs": []
    },
    {
      "cell_type": "code",
      "source": [
        "p_coeef,p_value"
      ],
      "metadata": {
        "colab": {
          "base_uri": "https://localhost:8080/"
        },
        "id": "n1yJ804ZvnDv",
        "outputId": "304c35b7-f7a9-471a-8b33-8b8ff6499aa0"
      },
      "execution_count": null,
      "outputs": [
        {
          "output_type": "execute_result",
          "data": {
            "text/plain": [
              "(0.7025828039642034, 0.0)"
            ]
          },
          "metadata": {},
          "execution_count": 9
        }
      ]
    },
    {
      "cell_type": "code",
      "source": [
        "corr_pcoeef=[]\n",
        "corr_pvalue=[]\n",
        "for i in range(1,29):\n",
        "  p_c,p_v=pearsonr(close_btc[i*100-100:100*i],close_tsla[i*100-100:100*i])\n",
        "  corr_pcoeef.append(p_c)\n",
        "  corr_pvalue.append(p_v)"
      ],
      "metadata": {
        "id": "2UfjCWiVwbPm"
      },
      "execution_count": null,
      "outputs": []
    },
    {
      "cell_type": "code",
      "source": [
        "plt.figure(figsize=(9,4),dpi=100)\n",
        "plt.plot(corr_pcoeef,label='P Coeefient')\n",
        "plt.plot(corr_pvalue,label='P Value')\n",
        "plt.ylabel('P Coeefient and P Value')\n",
        "plt.xlabel('Date in 100')\n",
        "plt.legend()\n",
        "plt.show()"
      ],
      "metadata": {
        "colab": {
          "base_uri": "https://localhost:8080/",
          "height": 384
        },
        "id": "FZdIMqdTx7H2",
        "outputId": "c6580a3c-377b-41aa-d082-a76dc941106b"
      },
      "execution_count": null,
      "outputs": [
        {
          "output_type": "display_data",
          "data": {
            "text/plain": [
              "<Figure size 900x400 with 1 Axes>"
            ],
            "image/png": "[encoded data removed]"
          },
          "metadata": {
            "needs_background": "light"
          }
        }
      ]
    },
    {
      "cell_type": "code",
      "source": [
        "corr_pcoeef1=[]\n",
        "corr_pvalue1=[]\n",
        "for i in range(1,29):\n",
        "  p_c,p_v=pearsonr(close_btc[:100*i],close_tsla[:100*i])\n",
        "  corr_pcoeef1.append(p_c)\n",
        "  corr_pvalue1.append(p_v)"
      ],
      "metadata": {
        "id": "tE1gb4q50Hhv"
      },
      "execution_count": null,
      "outputs": []
    },
    {
      "cell_type": "code",
      "source": [
        "plt.figure(figsize=(9,4),dpi=100)\n",
        "plt.plot(corr_pcoeef1,label='P Coeefient')\n",
        "plt.plot(corr_pvalue1,label='P Value')\n",
        "plt.ylabel('P Coeefient and P Value')\n",
        "plt.xlabel('Date in 100')\n",
        "plt.legend()\n",
        "plt.show()"
      ],
      "metadata": {
        "colab": {
          "base_uri": "https://localhost:8080/",
          "height": 382
        },
        "id": "9JWBXOyY0WKW",
        "outputId": "04e6456a-9106-4522-dd34-a8798f7f0045"
      },
      "execution_count": null,
      "outputs": [
        {
          "output_type": "display_data",
          "data": {
            "text/plain": [
              "<Figure size 900x400 with 1 Axes>"
            ],
            "image/png": "[encoded data removed]"
          },
          "metadata": {
            "needs_background": "light"
          }
        }
      ]
    },
    {
      "cell_type": "code",
      "source": [
        "p_coeef,p_value=pearsonr(corr_pcoeef,corr_pcoeef1)\n",
        "p_coeef,p_value"
      ],
      "metadata": {
        "colab": {
          "base_uri": "https://localhost:8080/"
        },
        "id": "1Earmo5P0vrY",
        "outputId": "39992084-8fc0-4a2a-e4e7-79a62794dc57"
      },
      "execution_count": null,
      "outputs": [
        {
          "output_type": "execute_result",
          "data": {
            "text/plain": [
              "(0.35554506385392515, 0.06334122954958957)"
            ]
          },
          "metadata": {},
          "execution_count": 14
        }
      ]
    },
    {
      "cell_type": "code",
      "source": [
        "def corr_difine(x):\n",
        "  if 0.5<=x<=1:\n",
        "    print('کرلشن قوی مستقیم')\n",
        "  elif 0<=x<0.5:\n",
        "    print('کرلشن ضعیف مستیقم')\n",
        "  elif -0.5<=x<0:\n",
        "    print('کرلشن ضعیف عکس')\n",
        "  elif -1<=x<-0.5:\n",
        "    print('کرلشن قوی عکس')"
      ],
      "metadata": {
        "id": "tLS5q_6R134_"
      },
      "execution_count": null,
      "outputs": []
    },
    {
      "cell_type": "code",
      "source": [
        "corr_difine(p_coeef)"
      ],
      "metadata": {
        "colab": {
          "base_uri": "https://localhost:8080/"
        },
        "id": "vAd6OiJR2qQu",
        "outputId": "b1af5adc-8d2c-40a8-8199-d6bf101a950e"
      },
      "execution_count": null,
      "outputs": [
        {
          "output_type": "stream",
          "name": "stdout",
          "text": [
            "کرلشن ضعیف مستیقم\n"
          ]
        }
      ]
    },
    {
      "cell_type": "code",
      "source": [
        "def corr_difine(x):\n",
        "  c=0\n",
        "  if 0.5<=x<=1:\n",
        "    c=0\n",
        "  elif 0<=x<0.5:\n",
        "    c=1\n",
        "  elif -0.5<=x<0:\n",
        "    c=2\n",
        "  elif -1<=x<-0.5:\n",
        "    c=3\n",
        "  return c"
      ],
      "metadata": {
        "id": "qHWmay2120q_"
      },
      "execution_count": null,
      "outputs": []
    },
    {
      "cell_type": "code",
      "source": [
        "corr_difine(p_coeef)"
      ],
      "metadata": {
        "colab": {
          "base_uri": "https://localhost:8080/"
        },
        "id": "MXs9YV403AWm",
        "outputId": "1d2231da-7731-44f3-da38-535f251c33fc"
      },
      "execution_count": null,
      "outputs": [
        {
          "output_type": "execute_result",
          "data": {
            "text/plain": [
              "1"
            ]
          },
          "metadata": {},
          "execution_count": 18
        }
      ]
    },
    {
      "cell_type": "code",
      "source": [
        "dis_corr=[]\n",
        "for i in corr_pcoeef:\n",
        "  dis_corr.append(corr_difine(i))"
      ],
      "metadata": {
        "id": "0_59FARF3fXW"
      },
      "execution_count": null,
      "outputs": []
    },
    {
      "cell_type": "code",
      "source": [
        "dis_corr1=[]\n",
        "for i in corr_pcoeef1:\n",
        "  dis_corr1.append(corr_difine(i))"
      ],
      "metadata": {
        "id": "vFfPo4ff3fRt"
      },
      "execution_count": null,
      "outputs": []
    },
    {
      "cell_type": "code",
      "source": [
        "btc"
      ],
      "metadata": {
        "colab": {
          "base_uri": "https://localhost:8080/",
          "height": 423
        },
        "id": "yfX53RkS43U_",
        "outputId": "0a8c9e93-0712-407c-f851-6d9daaa562ef"
      },
      "execution_count": null,
      "outputs": [
        {
          "output_type": "execute_result",
          "data": {
            "text/plain": [
              "            date     1. open     2. high      3. low    4. close  5. volume\n",
              "0     2021-11-11  64891.1375  65596.8454  64098.4651  64785.3826    47337.0\n",
              "1     2021-11-10  66944.8576  68990.6665  63319.6921  64897.4985    61210.0\n",
              "2     2021-11-09  67531.9826  68522.0065  66326.9613  66942.3801    52140.0\n",
              "3     2021-11-08  63283.3131  67772.6291  63283.3068  67532.2386    65777.0\n",
              "4     2021-11-07  61486.5858  63293.6064  61345.1077  63280.0615    34366.0\n",
              "...          ...         ...         ...         ...         ...        ...\n",
              "3700  2011-08-23     11.7000     11.7000     11.7000     11.7000        0.0\n",
              "3701  2011-08-22     11.7000     11.7000     11.7000     11.7000        0.0\n",
              "3702  2011-08-21     11.7000     11.7000     11.7000     11.7000        0.0\n",
              "3703  2011-08-20     11.8500     11.8500     11.1500     11.6900        1.0\n",
              "3704  2011-08-19     10.9000     10.9000     10.9000     10.9000        0.0\n",
              "\n",
              "[3705 rows x 6 columns]"
            ],
            "text/html": [
              "\n",
              "  <div id=\"df-bd48851e-1052-4216-b01b-23a2c6c3ada3\">\n",
              "    <div class=\"colab-df-container\">\n",
              "      <div>\n",
              "<style scoped>\n",
              "    .dataframe tbody tr th:only-of-type {\n",
              "        vertical-align: middle;\n",
              "    }\n",
              "\n",
              "    .dataframe tbody tr th {\n",
              "        vertical-align: top;\n",
              "    }\n",
              "\n",
              "    .dataframe thead th {\n",
              "        text-align: right;\n",
              "    }\n",
              "</style>\n",
              "<table border=\"1\" class=\"dataframe\">\n",
              "  <thead>\n",
              "    <tr style=\"text-align: right;\">\n",
              "      <th></th>\n",
              "      <th>date</th>\n",
              "      <th>1. open</th>\n",
              "      <th>2. high</th>\n",
              "      <th>3. low</th>\n",
              "      <th>4. close</th>\n",
              "      <th>5. volume</th>\n",
              "    </tr>\n",
              "  </thead>\n",
              "  <tbody>\n",
              "    <tr>\n",
              "      <th>0</th>\n",
              "      <td>2021-11-11</td>\n",
              "      <td>64891.1375</td>\n",
              "      <td>65596.8454</td>\n",
              "      <td>64098.4651</td>\n",
              "      <td>64785.3826</td>\n",
              "      <td>47337.0</td>\n",
              "    </tr>\n",
              "    <tr>\n",
              "      <th>1</th>\n",
              "      <td>2021-11-10</td>\n",
              "      <td>66944.8576</td>\n",
              "      <td>68990.6665</td>\n",
              "      <td>63319.6921</td>\n",
              "      <td>64897.4985</td>\n",
              "      <td>61210.0</td>\n",
              "    </tr>\n",
              "    <tr>\n",
              "      <th>2</th>\n",
              "      <td>2021-11-09</td>\n",
              "      <td>67531.9826</td>\n",
              "      <td>68522.0065</td>\n",
              "      <td>66326.9613</td>\n",
              "      <td>66942.3801</td>\n",
              "      <td>52140.0</td>\n",
              "    </tr>\n",
              "    <tr>\n",
              "      <th>3</th>\n",
              "      <td>2021-11-08</td>\n",
              "      <td>63283.3131</td>\n",
              "      <td>67772.6291</td>\n",
              "      <td>63283.3068</td>\n",
              "      <td>67532.2386</td>\n",
              "      <td>65777.0</td>\n",
              "    </tr>\n",
              "    <tr>\n",
              "      <th>4</th>\n",
              "      <td>2021-11-07</td>\n",
              "      <td>61486.5858</td>\n",
              "      <td>63293.6064</td>\n",
              "      <td>61345.1077</td>\n",
              "      <td>63280.0615</td>\n",
              "      <td>34366.0</td>\n",
              "    </tr>\n",
              "    <tr>\n",
              "      <th>...</th>\n",
              "      <td>...</td>\n",
              "      <td>...</td>\n",
              "      <td>...</td>\n",
              "      <td>...</td>\n",
              "      <td>...</td>\n",
              "      <td>...</td>\n",
              "    </tr>\n",
              "    <tr>\n",
              "      <th>3700</th>\n",
              "      <td>2011-08-23</td>\n",
              "      <td>11.7000</td>\n",
              "      <td>11.7000</td>\n",
              "      <td>11.7000</td>\n",
              "      <td>11.7000</td>\n",
              "      <td>0.0</td>\n",
              "    </tr>\n",
              "    <tr>\n",
              "      <th>3701</th>\n",
              "      <td>2011-08-22</td>\n",
              "      <td>11.7000</td>\n",
              "      <td>11.7000</td>\n",
              "      <td>11.7000</td>\n",
              "      <td>11.7000</td>\n",
              "      <td>0.0</td>\n",
              "    </tr>\n",
              "    <tr>\n",
              "      <th>3702</th>\n",
              "      <td>2011-08-21</td>\n",
              "      <td>11.7000</td>\n",
              "      <td>11.7000</td>\n",
              "      <td>11.7000</td>\n",
              "      <td>11.7000</td>\n",
              "      <td>0.0</td>\n",
              "    </tr>\n",
              "    <tr>\n",
              "      <th>3703</th>\n",
              "      <td>2011-08-20</td>\n",
              "      <td>11.8500</td>\n",
              "      <td>11.8500</td>\n",
              "      <td>11.1500</td>\n",
              "      <td>11.6900</td>\n",
              "      <td>1.0</td>\n",
              "    </tr>\n",
              "    <tr>\n",
              "      <th>3704</th>\n",
              "      <td>2011-08-19</td>\n",
              "      <td>10.9000</td>\n",
              "      <td>10.9000</td>\n",
              "      <td>10.9000</td>\n",
              "      <td>10.9000</td>\n",
              "      <td>0.0</td>\n",
              "    </tr>\n",
              "  </tbody>\n",
              "</table>\n",
              "<p>3705 rows × 6 columns</p>\n",
              "</div>\n",
              "      <button class=\"colab-df-convert\" onclick=\"convertToInteractive('df-bd48851e-1052-4216-b01b-23a2c6c3ada3')\"\n",
              "              title=\"Convert this dataframe to an interactive table.\"\n",
              "              style=\"display:none;\">\n",
              "        \n",
              "  <svg xmlns=\"http://www.w3.org/2000/svg\" height=\"24px\"viewBox=\"0 0 24 24\"\n",
              "       width=\"24px\">\n",
              "    <path d=\"M0 0h24v24H0V0z\" fill=\"none\"/>\n",
              "    <path d=\"M18.56 5.44l.94 2.06.94-2.06 2.06-.94-2.06-.94-.94-2.06-.94 2.06-2.06.94zm-11 1L8.5 8.5l.94-2.06 2.06-.94-2.06-.94L8.5 2.5l-.94 2.06-2.06.94zm10 10l.94 2.06.94-2.06 2.06-.94-2.06-.94-.94-2.06-.94 2.06-2.06.94z\"/><path d=\"M17.41 7.96l-1.37-1.37c-.4-.4-.92-.59-1.43-.59-.52 0-1.04.2-1.43.59L10.3 9.45l-7.72 7.72c-.78.78-.78 2.05 0 2.83L4 21.41c.39.39.9.59 1.41.59.51 0 1.02-.2 1.41-.59l7.78-7.78 2.81-2.81c.8-.78.8-2.07 0-2.86zM5.41 20L4 18.59l7.72-7.72 1.47 1.35L5.41 20z\"/>\n",
              "  </svg>\n",
              "      </button>\n",
              "      \n",
              "  <style>\n",
              "    .colab-df-container {\n",
              "      display:flex;\n",
              "      flex-wrap:wrap;\n",
              "      gap: 12px;\n",
              "    }\n",
              "\n",
              "    .colab-df-convert {\n",
              "      background-color: #E8F0FE;\n",
              "      border: none;\n",
              "      border-radius: 50%;\n",
              "      cursor: pointer;\n",
              "      display: none;\n",
              "      fill: #1967D2;\n",
              "      height: 32px;\n",
              "      padding: 0 0 0 0;\n",
              "      width: 32px;\n",
              "    }\n",
              "\n",
              "    .colab-df-convert:hover {\n",
              "      background-color: #E2EBFA;\n",
              "      box-shadow: 0px 1px 2px rgba(60, 64, 67, 0.3), 0px 1px 3px 1px rgba(60, 64, 67, 0.15);\n",
              "      fill: #174EA6;\n",
              "    }\n",
              "\n",
              "    [theme=dark] .colab-df-convert {\n",
              "      background-color: #3B4455;\n",
              "      fill: #D2E3FC;\n",
              "    }\n",
              "\n",
              "    [theme=dark] .colab-df-convert:hover {\n",
              "      background-color: #434B5C;\n",
              "      box-shadow: 0px 1px 3px 1px rgba(0, 0, 0, 0.15);\n",
              "      filter: drop-shadow(0px 1px 2px rgba(0, 0, 0, 0.3));\n",
              "      fill: #FFFFFF;\n",
              "    }\n",
              "  </style>\n",
              "\n",
              "      <script>\n",
              "        const buttonEl =\n",
              "          document.querySelector('#df-bd48851e-1052-4216-b01b-23a2c6c3ada3 button.colab-df-convert');\n",
              "        buttonEl.style.display =\n",
              "          google.colab.kernel.accessAllowed ? 'block' : 'none';\n",
              "\n",
              "        async function convertToInteractive(key) {\n",
              "          const element = document.querySelector('#df-bd48851e-1052-4216-b01b-23a2c6c3ada3');\n",
              "          const dataTable =\n",
              "            await google.colab.kernel.invokeFunction('convertToInteractive',\n",
              "                                                     [key], {});\n",
              "          if (!dataTable) return;\n",
              "\n",
              "          const docLinkHtml = 'Like what you see? Visit the ' +\n",
              "            '<a target=\"_blank\" href=https://colab.research.google.com/notebooks/data_table.ipynb>data table notebook</a>'\n",
              "            + ' to learn more about interactive tables.';\n",
              "          element.innerHTML = '';\n",
              "          dataTable['output_type'] = 'display_data';\n",
              "          await google.colab.output.renderOutput(dataTable, element);\n",
              "          const docLink = document.createElement('div');\n",
              "          docLink.innerHTML = docLinkHtml;\n",
              "          element.appendChild(docLink);\n",
              "        }\n",
              "      </script>\n",
              "    </div>\n",
              "  </div>\n",
              "  "
            ]
          },
          "metadata": {},
          "execution_count": 22
        }
      ]
    },
    {
      "cell_type": "code",
      "source": [
        "tsla"
      ],
      "metadata": {
        "colab": {
          "base_uri": "https://localhost:8080/",
          "height": 423
        },
        "id": "eJQjaKky45mW",
        "outputId": "3e1d16de-1243-4e0e-f1cc-0e76df1ca386"
      },
      "execution_count": null,
      "outputs": [
        {
          "output_type": "execute_result",
          "data": {
            "text/plain": [
              "            date   1. open    2. high   3. low  4. close   5. volume\n",
              "0     2021-11-11  1102.770  1104.9700  1054.68   1063.51  22174016.0\n",
              "1     2021-11-10  1010.410  1078.1000   987.31   1067.95  42802722.0\n",
              "2     2021-11-09  1173.600  1174.5000  1011.52   1023.50  58525547.0\n",
              "3     2021-11-08  1149.785  1197.0000  1133.00   1162.94  33445715.0\n",
              "4     2021-11-05  1228.000  1239.8700  1208.00   1222.09  21628812.0\n",
              "...          ...       ...        ...      ...       ...         ...\n",
              "2860  2010-07-06    20.000    20.0000    15.83     16.11   6866900.0\n",
              "2861  2010-07-02    23.000    23.1000    18.71     19.20   5139800.0\n",
              "2862  2010-07-01    25.000    25.9200    20.27     21.96   8218800.0\n",
              "2863  2010-06-30    25.790    30.4192    23.30     23.83  17187100.0\n",
              "2864  2010-06-29    19.000    25.0000    17.54     23.89  18766300.0\n",
              "\n",
              "[2865 rows x 6 columns]"
            ],
            "text/html": [
              "\n",
              "  <div id=\"df-9ece003a-e256-47f3-8020-9cfd9df0a309\">\n",
              "    <div class=\"colab-df-container\">\n",
              "      <div>\n",
              "<style scoped>\n",
              "    .dataframe tbody tr th:only-of-type {\n",
              "        vertical-align: middle;\n",
              "    }\n",
              "\n",
              "    .dataframe tbody tr th {\n",
              "        vertical-align: top;\n",
              "    }\n",
              "\n",
              "    .dataframe thead th {\n",
              "        text-align: right;\n",
              "    }\n",
              "</style>\n",
              "<table border=\"1\" class=\"dataframe\">\n",
              "  <thead>\n",
              "    <tr style=\"text-align: right;\">\n",
              "      <th></th>\n",
              "      <th>date</th>\n",
              "      <th>1. open</th>\n",
              "      <th>2. high</th>\n",
              "      <th>3. low</th>\n",
              "      <th>4. close</th>\n",
              "      <th>5. volume</th>\n",
              "    </tr>\n",
              "  </thead>\n",
              "  <tbody>\n",
              "    <tr>\n",
              "      <th>0</th>\n",
              "      <td>2021-11-11</td>\n",
              "      <td>1102.770</td>\n",
              "      <td>1104.9700</td>\n",
              "      <td>1054.68</td>\n",
              "      <td>1063.51</td>\n",
              "      <td>22174016.0</td>\n",
              "    </tr>\n",
              "    <tr>\n",
              "      <th>1</th>\n",
              "      <td>2021-11-10</td>\n",
              "      <td>1010.410</td>\n",
              "      <td>1078.1000</td>\n",
              "      <td>987.31</td>\n",
              "      <td>1067.95</td>\n",
              "      <td>42802722.0</td>\n",
              "    </tr>\n",
              "    <tr>\n",
              "      <th>2</th>\n",
              "      <td>2021-11-09</td>\n",
              "      <td>1173.600</td>\n",
              "      <td>1174.5000</td>\n",
              "      <td>1011.52</td>\n",
              "      <td>1023.50</td>\n",
              "      <td>58525547.0</td>\n",
              "    </tr>\n",
              "    <tr>\n",
              "      <th>3</th>\n",
              "      <td>2021-11-08</td>\n",
              "      <td>1149.785</td>\n",
              "      <td>1197.0000</td>\n",
              "      <td>1133.00</td>\n",
              "      <td>1162.94</td>\n",
              "      <td>33445715.0</td>\n",
              "    </tr>\n",
              "    <tr>\n",
              "      <th>4</th>\n",
              "      <td>2021-11-05</td>\n",
              "      <td>1228.000</td>\n",
              "      <td>1239.8700</td>\n",
              "      <td>1208.00</td>\n",
              "      <td>1222.09</td>\n",
              "      <td>21628812.0</td>\n",
              "    </tr>\n",
              "    <tr>\n",
              "      <th>...</th>\n",
              "      <td>...</td>\n",
              "      <td>...</td>\n",
              "      <td>...</td>\n",
              "      <td>...</td>\n",
              "      <td>...</td>\n",
              "      <td>...</td>\n",
              "    </tr>\n",
              "    <tr>\n",
              "      <th>2860</th>\n",
              "      <td>2010-07-06</td>\n",
              "      <td>20.000</td>\n",
              "      <td>20.0000</td>\n",
              "      <td>15.83</td>\n",
              "      <td>16.11</td>\n",
              "      <td>6866900.0</td>\n",
              "    </tr>\n",
              "    <tr>\n",
              "      <th>2861</th>\n",
              "      <td>2010-07-02</td>\n",
              "      <td>23.000</td>\n",
              "      <td>23.1000</td>\n",
              "      <td>18.71</td>\n",
              "      <td>19.20</td>\n",
              "      <td>5139800.0</td>\n",
              "    </tr>\n",
              "    <tr>\n",
              "      <th>2862</th>\n",
              "      <td>2010-07-01</td>\n",
              "      <td>25.000</td>\n",
              "      <td>25.9200</td>\n",
              "      <td>20.27</td>\n",
              "      <td>21.96</td>\n",
              "      <td>8218800.0</td>\n",
              "    </tr>\n",
              "    <tr>\n",
              "      <th>2863</th>\n",
              "      <td>2010-06-30</td>\n",
              "      <td>25.790</td>\n",
              "      <td>30.4192</td>\n",
              "      <td>23.30</td>\n",
              "      <td>23.83</td>\n",
              "      <td>17187100.0</td>\n",
              "    </tr>\n",
              "    <tr>\n",
              "      <th>2864</th>\n",
              "      <td>2010-06-29</td>\n",
              "      <td>19.000</td>\n",
              "      <td>25.0000</td>\n",
              "      <td>17.54</td>\n",
              "      <td>23.89</td>\n",
              "      <td>18766300.0</td>\n",
              "    </tr>\n",
              "  </tbody>\n",
              "</table>\n",
              "<p>2865 rows × 6 columns</p>\n",
              "</div>\n",
              "      <button class=\"colab-df-convert\" onclick=\"convertToInteractive('df-9ece003a-e256-47f3-8020-9cfd9df0a309')\"\n",
              "              title=\"Convert this dataframe to an interactive table.\"\n",
              "              style=\"display:none;\">\n",
              "        \n",
              "  <svg xmlns=\"http://www.w3.org/2000/svg\" height=\"24px\"viewBox=\"0 0 24 24\"\n",
              "       width=\"24px\">\n",
              "    <path d=\"M0 0h24v24H0V0z\" fill=\"none\"/>\n",
              "    <path d=\"M18.56 5.44l.94 2.06.94-2.06 2.06-.94-2.06-.94-.94-2.06-.94 2.06-2.06.94zm-11 1L8.5 8.5l.94-2.06 2.06-.94-2.06-.94L8.5 2.5l-.94 2.06-2.06.94zm10 10l.94 2.06.94-2.06 2.06-.94-2.06-.94-.94-2.06-.94 2.06-2.06.94z\"/><path d=\"M17.41 7.96l-1.37-1.37c-.4-.4-.92-.59-1.43-.59-.52 0-1.04.2-1.43.59L10.3 9.45l-7.72 7.72c-.78.78-.78 2.05 0 2.83L4 21.41c.39.39.9.59 1.41.59.51 0 1.02-.2 1.41-.59l7.78-7.78 2.81-2.81c.8-.78.8-2.07 0-2.86zM5.41 20L4 18.59l7.72-7.72 1.47 1.35L5.41 20z\"/>\n",
              "  </svg>\n",
              "      </button>\n",
              "      \n",
              "  <style>\n",
              "    .colab-df-container {\n",
              "      display:flex;\n",
              "      flex-wrap:wrap;\n",
              "      gap: 12px;\n",
              "    }\n",
              "\n",
              "    .colab-df-convert {\n",
              "      background-color: #E8F0FE;\n",
              "      border: none;\n",
              "      border-radius: 50%;\n",
              "      cursor: pointer;\n",
              "      display: none;\n",
              "      fill: #1967D2;\n",
              "      height: 32px;\n",
              "      padding: 0 0 0 0;\n",
              "      width: 32px;\n",
              "    }\n",
              "\n",
              "    .colab-df-convert:hover {\n",
              "      background-color: #E2EBFA;\n",
              "      box-shadow: 0px 1px 2px rgba(60, 64, 67, 0.3), 0px 1px 3px 1px rgba(60, 64, 67, 0.15);\n",
              "      fill: #174EA6;\n",
              "    }\n",
              "\n",
              "    [theme=dark] .colab-df-convert {\n",
              "      background-color: #3B4455;\n",
              "      fill: #D2E3FC;\n",
              "    }\n",
              "\n",
              "    [theme=dark] .colab-df-convert:hover {\n",
              "      background-color: #434B5C;\n",
              "      box-shadow: 0px 1px 3px 1px rgba(0, 0, 0, 0.15);\n",
              "      filter: drop-shadow(0px 1px 2px rgba(0, 0, 0, 0.3));\n",
              "      fill: #FFFFFF;\n",
              "    }\n",
              "  </style>\n",
              "\n",
              "      <script>\n",
              "        const buttonEl =\n",
              "          document.querySelector('#df-9ece003a-e256-47f3-8020-9cfd9df0a309 button.colab-df-convert');\n",
              "        buttonEl.style.display =\n",
              "          google.colab.kernel.accessAllowed ? 'block' : 'none';\n",
              "\n",
              "        async function convertToInteractive(key) {\n",
              "          const element = document.querySelector('#df-9ece003a-e256-47f3-8020-9cfd9df0a309');\n",
              "          const dataTable =\n",
              "            await google.colab.kernel.invokeFunction('convertToInteractive',\n",
              "                                                     [key], {});\n",
              "          if (!dataTable) return;\n",
              "\n",
              "          const docLinkHtml = 'Like what you see? Visit the ' +\n",
              "            '<a target=\"_blank\" href=https://colab.research.google.com/notebooks/data_table.ipynb>data table notebook</a>'\n",
              "            + ' to learn more about interactive tables.';\n",
              "          element.innerHTML = '';\n",
              "          dataTable['output_type'] = 'display_data';\n",
              "          await google.colab.output.renderOutput(dataTable, element);\n",
              "          const docLink = document.createElement('div');\n",
              "          docLink.innerHTML = docLinkHtml;\n",
              "          element.appendChild(docLink);\n",
              "        }\n",
              "      </script>\n",
              "    </div>\n",
              "  </div>\n",
              "  "
            ]
          },
          "metadata": {},
          "execution_count": 23
        }
      ]
    },
    {
      "cell_type": "code",
      "source": [
        "#Main feature\n",
        "f1=btc['1. open'].values[:2800]\n",
        "f1=f1[::-1]\n",
        "f2=btc['2. high'].values[1:2801]\n",
        "f2=f2[::-1]\n",
        "f3=btc['3. low'].values[1:2801]\n",
        "f3=f3[::-1]\n",
        "f4=btc['5. volume'].values[1:2801]\n",
        "f4=f4[::-1]\n",
        "f5=tsla['4. close'].values[1:2801]\n",
        "f5=f5[::-1]\n",
        "#Memory feature\n",
        "f6=btc['1. open'].values[1:2801]\n",
        "f6=f6[::-1]\n",
        "f7=btc['2. high'].values[2:2802]\n",
        "f7=f7[::-1]\n",
        "f8=btc['3. low'].values[2:2802]\n",
        "f8=f8[::-1]\n",
        "f9=btc['5. volume'].values[2:2802]\n",
        "f9=f9[::-1]\n",
        "f10=tsla['4. close'].values[2:2802]\n",
        "f10=f10[::-1]\n",
        "#target\n",
        "target=btc['4. close'].values[:2800]\n",
        "target=target[::-1]\n",
        "#index\n",
        "index=btc['date'].values[:2800]\n",
        "index=index[::-1]"
      ],
      "metadata": {
        "id": "gI4ze8Ll48oV"
      },
      "execution_count": null,
      "outputs": []
    },
    {
      "cell_type": "code",
      "source": [
        "s={'open':f1,'high -1':f2,'low -1':f3,'volume -1':f4,'tsla close -1':f5,'open -2':f6,'high -2':f7,'low -2':f8,'volume -2':f9,'tsla close -2':f10,'close BTC':target}\n",
        "data=pd.DataFrame(s,index=index,columns=s.keys())\n",
        "data"
      ],
      "metadata": {
        "colab": {
          "base_uri": "https://localhost:8080/",
          "height": 423
        },
        "id": "XX_9voxE7I2t",
        "outputId": "34bbf721-fa9a-49dd-f7f7-4f6e102c2b52"
      },
      "execution_count": null,
      "outputs": [
        {
          "output_type": "execute_result",
          "data": {
            "text/plain": [
              "                  open     high -1      low -1  volume -1  tsla close -1  \\\n",
              "2014-03-11    638.4000    653.0000    613.0300     9121.0         21.980   \n",
              "2014-03-12    628.0200    646.5900    609.0000    13350.0         20.405   \n",
              "2014-03-13    631.7200    644.4400    614.1700     9166.0         20.600   \n",
              "2014-03-14    634.9500    656.9500    628.8000    12741.0         20.990   \n",
              "2014-03-15    641.0200    650.0000    632.0000     6728.0         21.120   \n",
              "...                ...         ...         ...        ...            ...   \n",
              "2021-11-07  61486.5858  61570.5207  60070.6430    33278.0       1229.910   \n",
              "2021-11-08  63283.3131  63293.6064  61345.1077    34366.0       1222.090   \n",
              "2021-11-09  67531.9826  67772.6291  63283.3068    65777.0       1162.940   \n",
              "2021-11-10  66944.8576  68522.0065  66326.9613    52140.0       1023.500   \n",
              "2021-11-11  64891.1375  68990.6665  63319.6921    61210.0       1067.950   \n",
              "\n",
              "               open -2     high -2      low -2  volume -2  tsla close -2  \\\n",
              "2014-03-11    620.0200    639.7900    604.5000     9699.0         21.400   \n",
              "2014-03-12    638.4000    653.0000    613.0300     9121.0         21.980   \n",
              "2014-03-13    628.0200    646.5900    609.0000    13350.0         20.405   \n",
              "2014-03-14    631.7200    644.4400    614.1700     9166.0         20.600   \n",
              "2014-03-15    634.9500    656.9500    628.8000    12741.0         20.990   \n",
              "...                ...         ...         ...        ...            ...   \n",
              "2021-11-07  60959.1135  62640.3357  60728.4953    41318.0       1213.860   \n",
              "2021-11-08  61486.5858  61570.5207  60070.6430    33278.0       1229.910   \n",
              "2021-11-09  63283.3131  63293.6064  61345.1077    34366.0       1222.090   \n",
              "2021-11-10  67531.9826  67772.6291  63283.3068    65777.0       1162.940   \n",
              "2021-11-11  66944.8576  68522.0065  66326.9613    52140.0       1023.500   \n",
              "\n",
              "             close BTC  \n",
              "2014-03-11    629.3900  \n",
              "2014-03-12    632.1000  \n",
              "2014-03-13    634.9500  \n",
              "2014-03-14    641.0100  \n",
              "2014-03-15    630.4200  \n",
              "...                ...  \n",
              "2021-11-07  63280.0615  \n",
              "2021-11-08  67532.2386  \n",
              "2021-11-09  66942.3801  \n",
              "2021-11-10  64897.4985  \n",
              "2021-11-11  64785.3826  \n",
              "\n",
              "[2800 rows x 11 columns]"
            ],
            "text/html": [
              "\n",
              "  <div id=\"df-7830fc02-f75d-4452-aee3-87c5ef0f78c8\">\n",
              "    <div class=\"colab-df-container\">\n",
              "      <div>\n",
              "<style scoped>\n",
              "    .dataframe tbody tr th:only-of-type {\n",
              "        vertical-align: middle;\n",
              "    }\n",
              "\n",
              "    .dataframe tbody tr th {\n",
              "        vertical-align: top;\n",
              "    }\n",
              "\n",
              "    .dataframe thead th {\n",
              "        text-align: right;\n",
              "    }\n",
              "</style>\n",
              "<table border=\"1\" class=\"dataframe\">\n",
              "  <thead>\n",
              "    <tr style=\"text-align: right;\">\n",
              "      <th></th>\n",
              "      <th>open</th>\n",
              "      <th>high -1</th>\n",
              "      <th>low -1</th>\n",
              "      <th>volume -1</th>\n",
              "      <th>tsla close -1</th>\n",
              "      <th>open -2</th>\n",
              "      <th>high -2</th>\n",
              "      <th>low -2</th>\n",
              "      <th>volume -2</th>\n",
              "      <th>tsla close -2</th>\n",
              "      <th>close BTC</th>\n",
              "    </tr>\n",
              "  </thead>\n",
              "  <tbody>\n",
              "    <tr>\n",
              "      <th>2014-03-11</th>\n",
              "      <td>638.4000</td>\n",
              "      <td>653.0000</td>\n",
              "      <td>613.0300</td>\n",
              "      <td>9121.0</td>\n",
              "      <td>21.980</td>\n",
              "      <td>620.0200</td>\n",
              "      <td>639.7900</td>\n",
              "      <td>604.5000</td>\n",
              "      <td>9699.0</td>\n",
              "      <td>21.400</td>\n",
              "      <td>629.3900</td>\n",
              "    </tr>\n",
              "    <tr>\n",
              "      <th>2014-03-12</th>\n",
              "      <td>628.0200</td>\n",
              "      <td>646.5900</td>\n",
              "      <td>609.0000</td>\n",
              "      <td>13350.0</td>\n",
              "      <td>20.405</td>\n",
              "      <td>638.4000</td>\n",
              "      <td>653.0000</td>\n",
              "      <td>613.0300</td>\n",
              "      <td>9121.0</td>\n",
              "      <td>21.980</td>\n",
              "      <td>632.1000</td>\n",
              "    </tr>\n",
              "    <tr>\n",
              "      <th>2014-03-13</th>\n",
              "      <td>631.7200</td>\n",
              "      <td>644.4400</td>\n",
              "      <td>614.1700</td>\n",
              "      <td>9166.0</td>\n",
              "      <td>20.600</td>\n",
              "      <td>628.0200</td>\n",
              "      <td>646.5900</td>\n",
              "      <td>609.0000</td>\n",
              "      <td>13350.0</td>\n",
              "      <td>20.405</td>\n",
              "      <td>634.9500</td>\n",
              "    </tr>\n",
              "    <tr>\n",
              "      <th>2014-03-14</th>\n",
              "      <td>634.9500</td>\n",
              "      <td>656.9500</td>\n",
              "      <td>628.8000</td>\n",
              "      <td>12741.0</td>\n",
              "      <td>20.990</td>\n",
              "      <td>631.7200</td>\n",
              "      <td>644.4400</td>\n",
              "      <td>614.1700</td>\n",
              "      <td>9166.0</td>\n",
              "      <td>20.600</td>\n",
              "      <td>641.0100</td>\n",
              "    </tr>\n",
              "    <tr>\n",
              "      <th>2014-03-15</th>\n",
              "      <td>641.0200</td>\n",
              "      <td>650.0000</td>\n",
              "      <td>632.0000</td>\n",
              "      <td>6728.0</td>\n",
              "      <td>21.120</td>\n",
              "      <td>634.9500</td>\n",
              "      <td>656.9500</td>\n",
              "      <td>628.8000</td>\n",
              "      <td>12741.0</td>\n",
              "      <td>20.990</td>\n",
              "      <td>630.4200</td>\n",
              "    </tr>\n",
              "    <tr>\n",
              "      <th>...</th>\n",
              "      <td>...</td>\n",
              "      <td>...</td>\n",
              "      <td>...</td>\n",
              "      <td>...</td>\n",
              "      <td>...</td>\n",
              "      <td>...</td>\n",
              "      <td>...</td>\n",
              "      <td>...</td>\n",
              "      <td>...</td>\n",
              "      <td>...</td>\n",
              "      <td>...</td>\n",
              "    </tr>\n",
              "    <tr>\n",
              "      <th>2021-11-07</th>\n",
              "      <td>61486.5858</td>\n",
              "      <td>61570.5207</td>\n",
              "      <td>60070.6430</td>\n",
              "      <td>33278.0</td>\n",
              "      <td>1229.910</td>\n",
              "      <td>60959.1135</td>\n",
              "      <td>62640.3357</td>\n",
              "      <td>60728.4953</td>\n",
              "      <td>41318.0</td>\n",
              "      <td>1213.860</td>\n",
              "      <td>63280.0615</td>\n",
              "    </tr>\n",
              "    <tr>\n",
              "      <th>2021-11-08</th>\n",
              "      <td>63283.3131</td>\n",
              "      <td>63293.6064</td>\n",
              "      <td>61345.1077</td>\n",
              "      <td>34366.0</td>\n",
              "      <td>1222.090</td>\n",
              "      <td>61486.5858</td>\n",
              "      <td>61570.5207</td>\n",
              "      <td>60070.6430</td>\n",
              "      <td>33278.0</td>\n",
              "      <td>1229.910</td>\n",
              "      <td>67532.2386</td>\n",
              "    </tr>\n",
              "    <tr>\n",
              "      <th>2021-11-09</th>\n",
              "      <td>67531.9826</td>\n",
              "      <td>67772.6291</td>\n",
              "      <td>63283.3068</td>\n",
              "      <td>65777.0</td>\n",
              "      <td>1162.940</td>\n",
              "      <td>63283.3131</td>\n",
              "      <td>63293.6064</td>\n",
              "      <td>61345.1077</td>\n",
              "      <td>34366.0</td>\n",
              "      <td>1222.090</td>\n",
              "      <td>66942.3801</td>\n",
              "    </tr>\n",
              "    <tr>\n",
              "      <th>2021-11-10</th>\n",
              "      <td>66944.8576</td>\n",
              "      <td>68522.0065</td>\n",
              "      <td>66326.9613</td>\n",
              "      <td>52140.0</td>\n",
              "      <td>1023.500</td>\n",
              "      <td>67531.9826</td>\n",
              "      <td>67772.6291</td>\n",
              "      <td>63283.3068</td>\n",
              "      <td>65777.0</td>\n",
              "      <td>1162.940</td>\n",
              "      <td>64897.4985</td>\n",
              "    </tr>\n",
              "    <tr>\n",
              "      <th>2021-11-11</th>\n",
              "      <td>64891.1375</td>\n",
              "      <td>68990.6665</td>\n",
              "      <td>63319.6921</td>\n",
              "      <td>61210.0</td>\n",
              "      <td>1067.950</td>\n",
              "      <td>66944.8576</td>\n",
              "      <td>68522.0065</td>\n",
              "      <td>66326.9613</td>\n",
              "      <td>52140.0</td>\n",
              "      <td>1023.500</td>\n",
              "      <td>64785.3826</td>\n",
              "    </tr>\n",
              "  </tbody>\n",
              "</table>\n",
              "<p>2800 rows × 11 columns</p>\n",
              "</div>\n",
              "      <button class=\"colab-df-convert\" onclick=\"convertToInteractive('df-7830fc02-f75d-4452-aee3-87c5ef0f78c8')\"\n",
              "              title=\"Convert this dataframe to an interactive table.\"\n",
              "              style=\"display:none;\">\n",
              "        \n",
              "  <svg xmlns=\"http://www.w3.org/2000/svg\" height=\"24px\"viewBox=\"0 0 24 24\"\n",
              "       width=\"24px\">\n",
              "    <path d=\"M0 0h24v24H0V0z\" fill=\"none\"/>\n",
              "    <path d=\"M18.56 5.44l.94 2.06.94-2.06 2.06-.94-2.06-.94-.94-2.06-.94 2.06-2.06.94zm-11 1L8.5 8.5l.94-2.06 2.06-.94-2.06-.94L8.5 2.5l-.94 2.06-2.06.94zm10 10l.94 2.06.94-2.06 2.06-.94-2.06-.94-.94-2.06-.94 2.06-2.06.94z\"/><path d=\"M17.41 7.96l-1.37-1.37c-.4-.4-.92-.59-1.43-.59-.52 0-1.04.2-1.43.59L10.3 9.45l-7.72 7.72c-.78.78-.78 2.05 0 2.83L4 21.41c.39.39.9.59 1.41.59.51 0 1.02-.2 1.41-.59l7.78-7.78 2.81-2.81c.8-.78.8-2.07 0-2.86zM5.41 20L4 18.59l7.72-7.72 1.47 1.35L5.41 20z\"/>\n",
              "  </svg>\n",
              "      </button>\n",
              "      \n",
              "  <style>\n",
              "    .colab-df-container {\n",
              "      display:flex;\n",
              "      flex-wrap:wrap;\n",
              "      gap: 12px;\n",
              "    }\n",
              "\n",
              "    .colab-df-convert {\n",
              "      background-color: #E8F0FE;\n",
              "      border: none;\n",
              "      border-radius: 50%;\n",
              "      cursor: pointer;\n",
              "      display: none;\n",
              "      fill: #1967D2;\n",
              "      height: 32px;\n",
              "      padding: 0 0 0 0;\n",
              "      width: 32px;\n",
              "    }\n",
              "\n",
              "    .colab-df-convert:hover {\n",
              "      background-color: #E2EBFA;\n",
              "      box-shadow: 0px 1px 2px rgba(60, 64, 67, 0.3), 0px 1px 3px 1px rgba(60, 64, 67, 0.15);\n",
              "      fill: #174EA6;\n",
              "    }\n",
              "\n",
              "    [theme=dark] .colab-df-convert {\n",
              "      background-color: #3B4455;\n",
              "      fill: #D2E3FC;\n",
              "    }\n",
              "\n",
              "    [theme=dark] .colab-df-convert:hover {\n",
              "      background-color: #434B5C;\n",
              "      box-shadow: 0px 1px 3px 1px rgba(0, 0, 0, 0.15);\n",
              "      filter: drop-shadow(0px 1px 2px rgba(0, 0, 0, 0.3));\n",
              "      fill: #FFFFFF;\n",
              "    }\n",
              "  </style>\n",
              "\n",
              "      <script>\n",
              "        const buttonEl =\n",
              "          document.querySelector('#df-7830fc02-f75d-4452-aee3-87c5ef0f78c8 button.colab-df-convert');\n",
              "        buttonEl.style.display =\n",
              "          google.colab.kernel.accessAllowed ? 'block' : 'none';\n",
              "\n",
              "        async function convertToInteractive(key) {\n",
              "          const element = document.querySelector('#df-7830fc02-f75d-4452-aee3-87c5ef0f78c8');\n",
              "          const dataTable =\n",
              "            await google.colab.kernel.invokeFunction('convertToInteractive',\n",
              "                                                     [key], {});\n",
              "          if (!dataTable) return;\n",
              "\n",
              "          const docLinkHtml = 'Like what you see? Visit the ' +\n",
              "            '<a target=\"_blank\" href=https://colab.research.google.com/notebooks/data_table.ipynb>data table notebook</a>'\n",
              "            + ' to learn more about interactive tables.';\n",
              "          element.innerHTML = '';\n",
              "          dataTable['output_type'] = 'display_data';\n",
              "          await google.colab.output.renderOutput(dataTable, element);\n",
              "          const docLink = document.createElement('div');\n",
              "          docLink.innerHTML = docLinkHtml;\n",
              "          element.appendChild(docLink);\n",
              "        }\n",
              "      </script>\n",
              "    </div>\n",
              "  </div>\n",
              "  "
            ]
          },
          "metadata": {},
          "execution_count": 25
        }
      ]
    },
    {
      "cell_type": "code",
      "source": [
        "x=data.drop('close BTC',axis=1)\n",
        "y=data['close BTC'].values"
      ],
      "metadata": {
        "id": "9koT186O-t98"
      },
      "execution_count": null,
      "outputs": []
    },
    {
      "cell_type": "code",
      "source": [
        "from sklearn.model_selection import train_test_split\n",
        "x_train,x_test,y_train,y_test=train_test_split(x,y,test_size=0.2,random_state=42)"
      ],
      "metadata": {
        "id": "uD4iljhP-Wnd"
      },
      "execution_count": null,
      "outputs": []
    },
    {
      "cell_type": "code",
      "source": [
        "x_train.shape,x_test.shape,y_train.shape,y_test.shape"
      ],
      "metadata": {
        "colab": {
          "base_uri": "https://localhost:8080/"
        },
        "id": "jSN6AKA1_K0c",
        "outputId": "a884c43e-268a-42a0-d7b1-5e5a41d8e5b7"
      },
      "execution_count": null,
      "outputs": [
        {
          "output_type": "execute_result",
          "data": {
            "text/plain": [
              "((2240, 10), (560, 10), (2240,), (560,))"
            ]
          },
          "metadata": {},
          "execution_count": 29
        }
      ]
    },
    {
      "cell_type": "code",
      "source": [
        "from sklearn.linear_model import LinearRegression\n",
        "reg=LinearRegression()\n",
        "reg.fit(x_train,y_train)\n",
        "y_pred=reg.predict(x_test)"
      ],
      "metadata": {
        "id": "KC7qgHgy_RC-"
      },
      "execution_count": null,
      "outputs": []
    },
    {
      "cell_type": "code",
      "source": [
        "plt.figure(figsize=(9,7),dpi=100)\n",
        "plt.scatter(y_test,y_pred)\n",
        "plt.show()"
      ],
      "metadata": {
        "colab": {
          "base_uri": "https://localhost:8080/",
          "height": 589
        },
        "id": "Zz6mPOUL_lJ8",
        "outputId": "9f2ae082-69bc-4c93-ba3e-f85d333ff1eb"
      },
      "execution_count": null,
      "outputs": [
        {
          "output_type": "display_data",
          "data": {
            "text/plain": [
              "<Figure size 900x700 with 1 Axes>"
            ],
            "image/png": "[encoded data removed]"
          },
          "metadata": {
            "needs_background": "light"
          }
        }
      ]
    },
    {
      "cell_type": "code",
      "source": [
        "print('training score :',reg.score(x_train,y_train))\n",
        "print('testing score :',reg.score(x_test,y_test))"
      ],
      "metadata": {
        "colab": {
          "base_uri": "https://localhost:8080/"
        },
        "id": "iS822uOZA4Ls",
        "outputId": "3034dca8-3da4-4e0f-e4f8-2f70d66d02f7"
      },
      "execution_count": null,
      "outputs": [
        {
          "output_type": "stream",
          "name": "stdout",
          "text": [
            "training score : 0.9978788262661895\n",
            "testing score : 0.9978953996701978\n"
          ]
        }
      ]
    },
    {
      "cell_type": "code",
      "source": [
        "from sklearn.metrics import mean_squared_error as MSE\n",
        "from sklearn.metrics import mean_absolute_error as MAE\n",
        "from sklearn.metrics import mean_absolute_percentage_error as MAPE\n",
        "\n",
        "mse=MSE(y_test,y_pred)/len(y_test)\n",
        "mae=MAE(y_test,y_pred)\n",
        "mape=MAPE(y_test,y_pred)\n",
        "\n",
        "print('MSE :',mse,' | MAE : ',mae,' | MAPE : ',mape)"
      ],
      "metadata": {
        "colab": {
          "base_uri": "https://localhost:8080/"
        },
        "id": "sEr-JSSJ3fqL",
        "outputId": "4084c201-406d-42da-9364-aa0bf205c2c4"
      },
      "execution_count": null,
      "outputs": [
        {
          "output_type": "stream",
          "name": "stdout",
          "text": [
            "MSE : 714.5558354309595  | MAE :  226.99597948608593  | MAPE :  0.025185239108161266\n"
          ]
        }
      ]
    },
    {
      "cell_type": "code",
      "source": [
        "data.columns"
      ],
      "metadata": {
        "colab": {
          "base_uri": "https://localhost:8080/"
        },
        "id": "1Bl3kK9Z4x-L",
        "outputId": "550fb7c8-82cb-4d93-8b17-5b4a3952b140"
      },
      "execution_count": null,
      "outputs": [
        {
          "output_type": "execute_result",
          "data": {
            "text/plain": [
              "Index(['open', 'high -1', 'low -1', 'volume -1', 'tsla close -1', 'open -2',\n",
              "       'high -2', 'low -2', 'volume -2', 'tsla close -2', 'close BTC'],\n",
              "      dtype='object')"
            ]
          },
          "metadata": {},
          "execution_count": 40
        }
      ]
    },
    {
      "cell_type": "code",
      "source": [
        "p=np.array([41477.09,41779.57,40582,52140.0,1028.1,39655,41084,38570,52140.0,1004])\n",
        "p=p.reshape(-1,10)"
      ],
      "metadata": {
        "id": "pLRFd1yz47SC"
      },
      "execution_count": null,
      "outputs": []
    },
    {
      "cell_type": "code",
      "source": [
        "new_predict=reg.predict(p)"
      ],
      "metadata": {
        "colab": {
          "base_uri": "https://localhost:8080/"
        },
        "id": "gwb0r-ox6nQz",
        "outputId": "a54c49b1-6e53-4c15-c3f6-ee65af4cae38"
      },
      "execution_count": null,
      "outputs": [
        {
          "output_type": "stream",
          "name": "stderr",
          "text": [
            "/usr/local/lib/python3.7/dist-packages/sklearn/base.py:451: UserWarning: X does not have valid feature names, but LinearRegression was fitted with feature names\n",
            "  \"X does not have valid feature names, but\"\n"
          ]
        }
      ]
    },
    {
      "cell_type": "code",
      "source": [
        "new_predict"
      ],
      "metadata": {
        "colab": {
          "base_uri": "https://localhost:8080/"
        },
        "id": "5s3tauv960p6",
        "outputId": "a71eb3f2-0504-4c4f-f3cf-1c3921ef760a"
      },
      "execution_count": null,
      "outputs": [
        {
          "output_type": "execute_result",
          "data": {
            "text/plain": [
              "array([41022.36607204])"
            ]
          },
          "metadata": {},
          "execution_count": 45
        }
      ]
    },
    {
      "cell_type": "code",
      "source": [
        "new_predict-mse"
      ],
      "metadata": {
        "colab": {
          "base_uri": "https://localhost:8080/"
        },
        "id": "YVTIWLD264iy",
        "outputId": "a0a2f894-fcf4-4c36-9a1a-b1a1fbfb2560"
      },
      "execution_count": null,
      "outputs": [
        {
          "output_type": "execute_result",
          "data": {
            "text/plain": [
              "array([40307.81023661])"
            ]
          },
          "metadata": {},
          "execution_count": 46
        }
      ]
    },
    {
      "cell_type": "code",
      "source": [
        "new_predict+mse"
      ],
      "metadata": {
        "colab": {
          "base_uri": "https://localhost:8080/"
        },
        "id": "j4YUDYXU68wL",
        "outputId": "e94b6166-3894-49d3-fa49-13e94bcc6b4c"
      },
      "execution_count": null,
      "outputs": [
        {
          "output_type": "execute_result",
          "data": {
            "text/plain": [
              "array([41736.92190747])"
            ]
          },
          "metadata": {},
          "execution_count": 47
        }
      ]
    },
    {
      "cell_type": "markdown",
      "source": [
        "------Star-----"
      ],
      "metadata": {
        "id": "SqPkA1Rc8XO7"
      }
    },
    {
      "cell_type": "code",
      "source": [
        "df=pd.read_csv('/content/drive/MyDrive/Stars.csv')\n",
        "df"
      ],
      "metadata": {
        "colab": {
          "base_uri": "https://localhost:8080/",
          "height": 423
        },
        "id": "y0ZavvH18ZqC",
        "outputId": "5eb00700-d05f-4897-9462-6aa9238951c1"
      },
      "execution_count": null,
      "outputs": [
        {
          "output_type": "execute_result",
          "data": {
            "text/plain": [
              "     Temperature              L          R    A_M  Color Spectral_Class  Type\n",
              "0           3068       0.002400     0.1700  16.12    Red              M     0\n",
              "1           3042       0.000500     0.1542  16.60    Red              M     0\n",
              "2           2600       0.000300     0.1020  18.70    Red              M     0\n",
              "3           2800       0.000200     0.1600  16.65    Red              M     0\n",
              "4           1939       0.000138     0.1030  20.06    Red              M     0\n",
              "..           ...            ...        ...    ...    ...            ...   ...\n",
              "235        38940  374830.000000  1356.0000  -9.93   Blue              O     5\n",
              "236        30839  834042.000000  1194.0000 -10.63   Blue              O     5\n",
              "237         8829  537493.000000  1423.0000 -10.73  White              A     5\n",
              "238         9235  404940.000000  1112.0000 -11.23  White              A     5\n",
              "239        37882  294903.000000  1783.0000  -7.80   Blue              O     5\n",
              "\n",
              "[240 rows x 7 columns]"
            ],
            "text/html": [
              "\n",
              "  <div id=\"df-5e855b2b-227c-4f8b-a13d-40ca82768b2d\">\n",
              "    <div class=\"colab-df-container\">\n",
              "      <div>\n",
              "<style scoped>\n",
              "    .dataframe tbody tr th:only-of-type {\n",
              "        vertical-align: middle;\n",
              "    }\n",
              "\n",
              "    .dataframe tbody tr th {\n",
              "        vertical-align: top;\n",
              "    }\n",
              "\n",
              "    .dataframe thead th {\n",
              "        text-align: right;\n",
              "    }\n",
              "</style>\n",
              "<table border=\"1\" class=\"dataframe\">\n",
              "  <thead>\n",
              "    <tr style=\"text-align: right;\">\n",
              "      <th></th>\n",
              "      <th>Temperature</th>\n",
              "      <th>L</th>\n",
              "      <th>R</th>\n",
              "      <th>A_M</th>\n",
              "      <th>Color</th>\n",
              "      <th>Spectral_Class</th>\n",
              "      <th>Type</th>\n",
              "    </tr>\n",
              "  </thead>\n",
              "  <tbody>\n",
              "    <tr>\n",
              "      <th>0</th>\n",
              "      <td>3068</td>\n",
              "      <td>0.002400</td>\n",
              "      <td>0.1700</td>\n",
              "      <td>16.12</td>\n",
              "      <td>Red</td>\n",
              "      <td>M</td>\n",
              "      <td>0</td>\n",
              "    </tr>\n",
              "    <tr>\n",
              "      <th>1</th>\n",
              "      <td>3042</td>\n",
              "      <td>0.000500</td>\n",
              "      <td>0.1542</td>\n",
              "      <td>16.60</td>\n",
              "      <td>Red</td>\n",
              "      <td>M</td>\n",
              "      <td>0</td>\n",
              "    </tr>\n",
              "    <tr>\n",
              "      <th>2</th>\n",
              "      <td>2600</td>\n",
              "      <td>0.000300</td>\n",
              "      <td>0.1020</td>\n",
              "      <td>18.70</td>\n",
              "      <td>Red</td>\n",
              "      <td>M</td>\n",
              "      <td>0</td>\n",
              "    </tr>\n",
              "    <tr>\n",
              "      <th>3</th>\n",
              "      <td>2800</td>\n",
              "      <td>0.000200</td>\n",
              "      <td>0.1600</td>\n",
              "      <td>16.65</td>\n",
              "      <td>Red</td>\n",
              "      <td>M</td>\n",
              "      <td>0</td>\n",
              "    </tr>\n",
              "    <tr>\n",
              "      <th>4</th>\n",
              "      <td>1939</td>\n",
              "      <td>0.000138</td>\n",
              "      <td>0.1030</td>\n",
              "      <td>20.06</td>\n",
              "      <td>Red</td>\n",
              "      <td>M</td>\n",
              "      <td>0</td>\n",
              "    </tr>\n",
              "    <tr>\n",
              "      <th>...</th>\n",
              "      <td>...</td>\n",
              "      <td>...</td>\n",
              "      <td>...</td>\n",
              "      <td>...</td>\n",
              "      <td>...</td>\n",
              "      <td>...</td>\n",
              "      <td>...</td>\n",
              "    </tr>\n",
              "    <tr>\n",
              "      <th>235</th>\n",
              "      <td>38940</td>\n",
              "      <td>374830.000000</td>\n",
              "      <td>1356.0000</td>\n",
              "      <td>-9.93</td>\n",
              "      <td>Blue</td>\n",
              "      <td>O</td>\n",
              "      <td>5</td>\n",
              "    </tr>\n",
              "    <tr>\n",
              "      <th>236</th>\n",
              "      <td>30839</td>\n",
              "      <td>834042.000000</td>\n",
              "      <td>1194.0000</td>\n",
              "      <td>-10.63</td>\n",
              "      <td>Blue</td>\n",
              "      <td>O</td>\n",
              "      <td>5</td>\n",
              "    </tr>\n",
              "    <tr>\n",
              "      <th>237</th>\n",
              "      <td>8829</td>\n",
              "      <td>537493.000000</td>\n",
              "      <td>1423.0000</td>\n",
              "      <td>-10.73</td>\n",
              "      <td>White</td>\n",
              "      <td>A</td>\n",
              "      <td>5</td>\n",
              "    </tr>\n",
              "    <tr>\n",
              "      <th>238</th>\n",
              "      <td>9235</td>\n",
              "      <td>404940.000000</td>\n",
              "      <td>1112.0000</td>\n",
              "      <td>-11.23</td>\n",
              "      <td>White</td>\n",
              "      <td>A</td>\n",
              "      <td>5</td>\n",
              "    </tr>\n",
              "    <tr>\n",
              "      <th>239</th>\n",
              "      <td>37882</td>\n",
              "      <td>294903.000000</td>\n",
              "      <td>1783.0000</td>\n",
              "      <td>-7.80</td>\n",
              "      <td>Blue</td>\n",
              "      <td>O</td>\n",
              "      <td>5</td>\n",
              "    </tr>\n",
              "  </tbody>\n",
              "</table>\n",
              "<p>240 rows × 7 columns</p>\n",
              "</div>\n",
              "      <button class=\"colab-df-convert\" onclick=\"convertToInteractive('df-5e855b2b-227c-4f8b-a13d-40ca82768b2d')\"\n",
              "              title=\"Convert this dataframe to an interactive table.\"\n",
              "              style=\"display:none;\">\n",
              "        \n",
              "  <svg xmlns=\"http://www.w3.org/2000/svg\" height=\"24px\"viewBox=\"0 0 24 24\"\n",
              "       width=\"24px\">\n",
              "    <path d=\"M0 0h24v24H0V0z\" fill=\"none\"/>\n",
              "    <path d=\"M18.56 5.44l.94 2.06.94-2.06 2.06-.94-2.06-.94-.94-2.06-.94 2.06-2.06.94zm-11 1L8.5 8.5l.94-2.06 2.06-.94-2.06-.94L8.5 2.5l-.94 2.06-2.06.94zm10 10l.94 2.06.94-2.06 2.06-.94-2.06-.94-.94-2.06-.94 2.06-2.06.94z\"/><path d=\"M17.41 7.96l-1.37-1.37c-.4-.4-.92-.59-1.43-.59-.52 0-1.04.2-1.43.59L10.3 9.45l-7.72 7.72c-.78.78-.78 2.05 0 2.83L4 21.41c.39.39.9.59 1.41.59.51 0 1.02-.2 1.41-.59l7.78-7.78 2.81-2.81c.8-.78.8-2.07 0-2.86zM5.41 20L4 18.59l7.72-7.72 1.47 1.35L5.41 20z\"/>\n",
              "  </svg>\n",
              "      </button>\n",
              "      \n",
              "  <style>\n",
              "    .colab-df-container {\n",
              "      display:flex;\n",
              "      flex-wrap:wrap;\n",
              "      gap: 12px;\n",
              "    }\n",
              "\n",
              "    .colab-df-convert {\n",
              "      background-color: #E8F0FE;\n",
              "      border: none;\n",
              "      border-radius: 50%;\n",
              "      cursor: pointer;\n",
              "      display: none;\n",
              "      fill: #1967D2;\n",
              "      height: 32px;\n",
              "      padding: 0 0 0 0;\n",
              "      width: 32px;\n",
              "    }\n",
              "\n",
              "    .colab-df-convert:hover {\n",
              "      background-color: #E2EBFA;\n",
              "      box-shadow: 0px 1px 2px rgba(60, 64, 67, 0.3), 0px 1px 3px 1px rgba(60, 64, 67, 0.15);\n",
              "      fill: #174EA6;\n",
              "    }\n",
              "\n",
              "    [theme=dark] .colab-df-convert {\n",
              "      background-color: #3B4455;\n",
              "      fill: #D2E3FC;\n",
              "    }\n",
              "\n",
              "    [theme=dark] .colab-df-convert:hover {\n",
              "      background-color: #434B5C;\n",
              "      box-shadow: 0px 1px 3px 1px rgba(0, 0, 0, 0.15);\n",
              "      filter: drop-shadow(0px 1px 2px rgba(0, 0, 0, 0.3));\n",
              "      fill: #FFFFFF;\n",
              "    }\n",
              "  </style>\n",
              "\n",
              "      <script>\n",
              "        const buttonEl =\n",
              "          document.querySelector('#df-5e855b2b-227c-4f8b-a13d-40ca82768b2d button.colab-df-convert');\n",
              "        buttonEl.style.display =\n",
              "          google.colab.kernel.accessAllowed ? 'block' : 'none';\n",
              "\n",
              "        async function convertToInteractive(key) {\n",
              "          const element = document.querySelector('#df-5e855b2b-227c-4f8b-a13d-40ca82768b2d');\n",
              "          const dataTable =\n",
              "            await google.colab.kernel.invokeFunction('convertToInteractive',\n",
              "                                                     [key], {});\n",
              "          if (!dataTable) return;\n",
              "\n",
              "          const docLinkHtml = 'Like what you see? Visit the ' +\n",
              "            '<a target=\"_blank\" href=https://colab.research.google.com/notebooks/data_table.ipynb>data table notebook</a>'\n",
              "            + ' to learn more about interactive tables.';\n",
              "          element.innerHTML = '';\n",
              "          dataTable['output_type'] = 'display_data';\n",
              "          await google.colab.output.renderOutput(dataTable, element);\n",
              "          const docLink = document.createElement('div');\n",
              "          docLink.innerHTML = docLinkHtml;\n",
              "          element.appendChild(docLink);\n",
              "        }\n",
              "      </script>\n",
              "    </div>\n",
              "  </div>\n",
              "  "
            ]
          },
          "metadata": {},
          "execution_count": 59
        }
      ]
    },
    {
      "cell_type": "code",
      "source": [
        "c=df['Color'].values\n",
        "q=np.unique(c)\n",
        "q"
      ],
      "metadata": {
        "colab": {
          "base_uri": "https://localhost:8080/"
        },
        "id": "6NG2KKCM80rC",
        "outputId": "e94bea06-25e9-46d9-8432-30076100faa1"
      },
      "execution_count": null,
      "outputs": [
        {
          "output_type": "execute_result",
          "data": {
            "text/plain": [
              "array(['Blue', 'Blue White', 'Blue white', 'Blue-White', 'Blue-white',\n",
              "       'Orange', 'Orange-Red', 'Pale yellow orange', 'Red', 'White',\n",
              "       'White-Yellow', 'Whitish', 'Yellowish', 'Yellowish White', 'white',\n",
              "       'yellow-white', 'yellowish'], dtype=object)"
            ]
          },
          "metadata": {},
          "execution_count": 60
        }
      ]
    },
    {
      "cell_type": "code",
      "source": [
        "df=df.replace({'Blue':0, 'Blue White':1, 'Blue white':1, 'Blue-White':1, 'Blue-white':1,\n",
        "       'Orange':3, 'Orange-Red':4, 'Pale yellow orange':5, 'Red':6, 'White':7,\n",
        "       'White-Yellow':8, 'Whitish':9, 'Yellowish':10, 'Yellowish White':8, 'white':7,\n",
        "       'yellow-white':8, 'yellowish':10})"
      ],
      "metadata": {
        "id": "61abhISS9GZi"
      },
      "execution_count": null,
      "outputs": []
    },
    {
      "cell_type": "code",
      "source": [
        "sp=df['Spectral_Class'].values\n",
        "qq=np.unique(sp)\n",
        "qq"
      ],
      "metadata": {
        "colab": {
          "base_uri": "https://localhost:8080/"
        },
        "id": "51wchhep9usi",
        "outputId": "c2cf15e6-a354-42e4-91f4-7353ccaa8374"
      },
      "execution_count": null,
      "outputs": [
        {
          "output_type": "execute_result",
          "data": {
            "text/plain": [
              "array(['A', 'B', 'F', 'G', 'K', 'M', 'O'], dtype=object)"
            ]
          },
          "metadata": {},
          "execution_count": 62
        }
      ]
    },
    {
      "cell_type": "code",
      "source": [
        "df=df.replace({'A':0, 'B':1, 'F':2, 'G':3, 'K':4, 'M':5, 'O':6})"
      ],
      "metadata": {
        "id": "Ej6UgDBp957J"
      },
      "execution_count": null,
      "outputs": []
    },
    {
      "cell_type": "code",
      "source": [
        "df"
      ],
      "metadata": {
        "colab": {
          "base_uri": "https://localhost:8080/",
          "height": 423
        },
        "id": "cq8FPYcY-DiS",
        "outputId": "c279d3dc-4f51-433c-9c17-b4d63372fd08"
      },
      "execution_count": null,
      "outputs": [
        {
          "output_type": "execute_result",
          "data": {
            "text/plain": [
              "     Temperature              L          R    A_M  Color  Spectral_Class  Type\n",
              "0           3068       0.002400     0.1700  16.12      6               5     0\n",
              "1           3042       0.000500     0.1542  16.60      6               5     0\n",
              "2           2600       0.000300     0.1020  18.70      6               5     0\n",
              "3           2800       0.000200     0.1600  16.65      6               5     0\n",
              "4           1939       0.000138     0.1030  20.06      6               5     0\n",
              "..           ...            ...        ...    ...    ...             ...   ...\n",
              "235        38940  374830.000000  1356.0000  -9.93      0               6     5\n",
              "236        30839  834042.000000  1194.0000 -10.63      0               6     5\n",
              "237         8829  537493.000000  1423.0000 -10.73      7               0     5\n",
              "238         9235  404940.000000  1112.0000 -11.23      7               0     5\n",
              "239        37882  294903.000000  1783.0000  -7.80      0               6     5\n",
              "\n",
              "[240 rows x 7 columns]"
            ],
            "text/html": [
              "\n",
              "  <div id=\"df-12d5836f-00f6-4d7f-ab79-a6dc49d346b8\">\n",
              "    <div class=\"colab-df-container\">\n",
              "      <div>\n",
              "<style scoped>\n",
              "    .dataframe tbody tr th:only-of-type {\n",
              "        vertical-align: middle;\n",
              "    }\n",
              "\n",
              "    .dataframe tbody tr th {\n",
              "        vertical-align: top;\n",
              "    }\n",
              "\n",
              "    .dataframe thead th {\n",
              "        text-align: right;\n",
              "    }\n",
              "</style>\n",
              "<table border=\"1\" class=\"dataframe\">\n",
              "  <thead>\n",
              "    <tr style=\"text-align: right;\">\n",
              "      <th></th>\n",
              "      <th>Temperature</th>\n",
              "      <th>L</th>\n",
              "      <th>R</th>\n",
              "      <th>A_M</th>\n",
              "      <th>Color</th>\n",
              "      <th>Spectral_Class</th>\n",
              "      <th>Type</th>\n",
              "    </tr>\n",
              "  </thead>\n",
              "  <tbody>\n",
              "    <tr>\n",
              "      <th>0</th>\n",
              "      <td>3068</td>\n",
              "      <td>0.002400</td>\n",
              "      <td>0.1700</td>\n",
              "      <td>16.12</td>\n",
              "      <td>6</td>\n",
              "      <td>5</td>\n",
              "      <td>0</td>\n",
              "    </tr>\n",
              "    <tr>\n",
              "      <th>1</th>\n",
              "      <td>3042</td>\n",
              "      <td>0.000500</td>\n",
              "      <td>0.1542</td>\n",
              "      <td>16.60</td>\n",
              "      <td>6</td>\n",
              "      <td>5</td>\n",
              "      <td>0</td>\n",
              "    </tr>\n",
              "    <tr>\n",
              "      <th>2</th>\n",
              "      <td>2600</td>\n",
              "      <td>0.000300</td>\n",
              "      <td>0.1020</td>\n",
              "      <td>18.70</td>\n",
              "      <td>6</td>\n",
              "      <td>5</td>\n",
              "      <td>0</td>\n",
              "    </tr>\n",
              "    <tr>\n",
              "      <th>3</th>\n",
              "      <td>2800</td>\n",
              "      <td>0.000200</td>\n",
              "      <td>0.1600</td>\n",
              "      <td>16.65</td>\n",
              "      <td>6</td>\n",
              "      <td>5</td>\n",
              "      <td>0</td>\n",
              "    </tr>\n",
              "    <tr>\n",
              "      <th>4</th>\n",
              "      <td>1939</td>\n",
              "      <td>0.000138</td>\n",
              "      <td>0.1030</td>\n",
              "      <td>20.06</td>\n",
              "      <td>6</td>\n",
              "      <td>5</td>\n",
              "      <td>0</td>\n",
              "    </tr>\n",
              "    <tr>\n",
              "      <th>...</th>\n",
              "      <td>...</td>\n",
              "      <td>...</td>\n",
              "      <td>...</td>\n",
              "      <td>...</td>\n",
              "      <td>...</td>\n",
              "      <td>...</td>\n",
              "      <td>...</td>\n",
              "    </tr>\n",
              "    <tr>\n",
              "      <th>235</th>\n",
              "      <td>38940</td>\n",
              "      <td>374830.000000</td>\n",
              "      <td>1356.0000</td>\n",
              "      <td>-9.93</td>\n",
              "      <td>0</td>\n",
              "      <td>6</td>\n",
              "      <td>5</td>\n",
              "    </tr>\n",
              "    <tr>\n",
              "      <th>236</th>\n",
              "      <td>30839</td>\n",
              "      <td>834042.000000</td>\n",
              "      <td>1194.0000</td>\n",
              "      <td>-10.63</td>\n",
              "      <td>0</td>\n",
              "      <td>6</td>\n",
              "      <td>5</td>\n",
              "    </tr>\n",
              "    <tr>\n",
              "      <th>237</th>\n",
              "      <td>8829</td>\n",
              "      <td>537493.000000</td>\n",
              "      <td>1423.0000</td>\n",
              "      <td>-10.73</td>\n",
              "      <td>7</td>\n",
              "      <td>0</td>\n",
              "      <td>5</td>\n",
              "    </tr>\n",
              "    <tr>\n",
              "      <th>238</th>\n",
              "      <td>9235</td>\n",
              "      <td>404940.000000</td>\n",
              "      <td>1112.0000</td>\n",
              "      <td>-11.23</td>\n",
              "      <td>7</td>\n",
              "      <td>0</td>\n",
              "      <td>5</td>\n",
              "    </tr>\n",
              "    <tr>\n",
              "      <th>239</th>\n",
              "      <td>37882</td>\n",
              "      <td>294903.000000</td>\n",
              "      <td>1783.0000</td>\n",
              "      <td>-7.80</td>\n",
              "      <td>0</td>\n",
              "      <td>6</td>\n",
              "      <td>5</td>\n",
              "    </tr>\n",
              "  </tbody>\n",
              "</table>\n",
              "<p>240 rows × 7 columns</p>\n",
              "</div>\n",
              "      <button class=\"colab-df-convert\" onclick=\"convertToInteractive('df-12d5836f-00f6-4d7f-ab79-a6dc49d346b8')\"\n",
              "              title=\"Convert this dataframe to an interactive table.\"\n",
              "              style=\"display:none;\">\n",
              "        \n",
              "  <svg xmlns=\"http://www.w3.org/2000/svg\" height=\"24px\"viewBox=\"0 0 24 24\"\n",
              "       width=\"24px\">\n",
              "    <path d=\"M0 0h24v24H0V0z\" fill=\"none\"/>\n",
              "    <path d=\"M18.56 5.44l.94 2.06.94-2.06 2.06-.94-2.06-.94-.94-2.06-.94 2.06-2.06.94zm-11 1L8.5 8.5l.94-2.06 2.06-.94-2.06-.94L8.5 2.5l-.94 2.06-2.06.94zm10 10l.94 2.06.94-2.06 2.06-.94-2.06-.94-.94-2.06-.94 2.06-2.06.94z\"/><path d=\"M17.41 7.96l-1.37-1.37c-.4-.4-.92-.59-1.43-.59-.52 0-1.04.2-1.43.59L10.3 9.45l-7.72 7.72c-.78.78-.78 2.05 0 2.83L4 21.41c.39.39.9.59 1.41.59.51 0 1.02-.2 1.41-.59l7.78-7.78 2.81-2.81c.8-.78.8-2.07 0-2.86zM5.41 20L4 18.59l7.72-7.72 1.47 1.35L5.41 20z\"/>\n",
              "  </svg>\n",
              "      </button>\n",
              "      \n",
              "  <style>\n",
              "    .colab-df-container {\n",
              "      display:flex;\n",
              "      flex-wrap:wrap;\n",
              "      gap: 12px;\n",
              "    }\n",
              "\n",
              "    .colab-df-convert {\n",
              "      background-color: #E8F0FE;\n",
              "      border: none;\n",
              "      border-radius: 50%;\n",
              "      cursor: pointer;\n",
              "      display: none;\n",
              "      fill: #1967D2;\n",
              "      height: 32px;\n",
              "      padding: 0 0 0 0;\n",
              "      width: 32px;\n",
              "    }\n",
              "\n",
              "    .colab-df-convert:hover {\n",
              "      background-color: #E2EBFA;\n",
              "      box-shadow: 0px 1px 2px rgba(60, 64, 67, 0.3), 0px 1px 3px 1px rgba(60, 64, 67, 0.15);\n",
              "      fill: #174EA6;\n",
              "    }\n",
              "\n",
              "    [theme=dark] .colab-df-convert {\n",
              "      background-color: #3B4455;\n",
              "      fill: #D2E3FC;\n",
              "    }\n",
              "\n",
              "    [theme=dark] .colab-df-convert:hover {\n",
              "      background-color: #434B5C;\n",
              "      box-shadow: 0px 1px 3px 1px rgba(0, 0, 0, 0.15);\n",
              "      filter: drop-shadow(0px 1px 2px rgba(0, 0, 0, 0.3));\n",
              "      fill: #FFFFFF;\n",
              "    }\n",
              "  </style>\n",
              "\n",
              "      <script>\n",
              "        const buttonEl =\n",
              "          document.querySelector('#df-12d5836f-00f6-4d7f-ab79-a6dc49d346b8 button.colab-df-convert');\n",
              "        buttonEl.style.display =\n",
              "          google.colab.kernel.accessAllowed ? 'block' : 'none';\n",
              "\n",
              "        async function convertToInteractive(key) {\n",
              "          const element = document.querySelector('#df-12d5836f-00f6-4d7f-ab79-a6dc49d346b8');\n",
              "          const dataTable =\n",
              "            await google.colab.kernel.invokeFunction('convertToInteractive',\n",
              "                                                     [key], {});\n",
              "          if (!dataTable) return;\n",
              "\n",
              "          const docLinkHtml = 'Like what you see? Visit the ' +\n",
              "            '<a target=\"_blank\" href=https://colab.research.google.com/notebooks/data_table.ipynb>data table notebook</a>'\n",
              "            + ' to learn more about interactive tables.';\n",
              "          element.innerHTML = '';\n",
              "          dataTable['output_type'] = 'display_data';\n",
              "          await google.colab.output.renderOutput(dataTable, element);\n",
              "          const docLink = document.createElement('div');\n",
              "          docLink.innerHTML = docLinkHtml;\n",
              "          element.appendChild(docLink);\n",
              "        }\n",
              "      </script>\n",
              "    </div>\n",
              "  </div>\n",
              "  "
            ]
          },
          "metadata": {},
          "execution_count": 64
        }
      ]
    },
    {
      "cell_type": "code",
      "source": [
        "from sklearn.preprocessing import scale\n",
        "x=df.drop('Temperature',axis=1)\n",
        "y=df['Temperature'].values\n",
        "x=scale(x)"
      ],
      "metadata": {
        "id": "EQ-CvSn7-GYD"
      },
      "execution_count": null,
      "outputs": []
    },
    {
      "cell_type": "code",
      "source": [
        "x_train,x_test,y_train,y_test=train_test_split(x,y,test_size=0.2,random_state=42)"
      ],
      "metadata": {
        "id": "HeVhatop-naq"
      },
      "execution_count": null,
      "outputs": []
    },
    {
      "cell_type": "code",
      "source": [
        "reg_star=LinearRegression()\n",
        "reg_star.fit(x_train,y_train)\n",
        "y_pred=reg_star.predict(x_test)"
      ],
      "metadata": {
        "id": "02m0LLvA-xwi"
      },
      "execution_count": null,
      "outputs": []
    },
    {
      "cell_type": "code",
      "source": [
        "mse_star=MSE(y_test,y_pred)\n",
        "mae_star=MAE(y_test,y_pred)\n",
        "mape_star=MAPE(y_test,y_pred)"
      ],
      "metadata": {
        "id": "TwMh7jhl_AYC"
      },
      "execution_count": null,
      "outputs": []
    },
    {
      "cell_type": "code",
      "source": [
        "mse_star,mae_star,mape_star"
      ],
      "metadata": {
        "colab": {
          "base_uri": "https://localhost:8080/"
        },
        "id": "CgXYGFtm_UDp",
        "outputId": "1b602697-9b9c-4deb-fa53-af20bfe7a525"
      },
      "execution_count": null,
      "outputs": [
        {
          "output_type": "execute_result",
          "data": {
            "text/plain": [
              "(43862193.72353018, 4408.303038676837, 0.4827068235632986)"
            ]
          },
          "metadata": {},
          "execution_count": 71
        }
      ]
    },
    {
      "cell_type": "code",
      "source": [
        "xx=[0,40000]\n",
        "yy=[0,40000]"
      ],
      "metadata": {
        "id": "sFwpwV8U_sHq"
      },
      "execution_count": null,
      "outputs": []
    },
    {
      "cell_type": "code",
      "source": [
        "plt.figure(figsize=(9,7),dpi=100)\n",
        "plt.scatter(y_test,y_pred)\n",
        "plt.plot(xx,yy,'r--')\n",
        "plt.xlabel('True')\n",
        "plt.ylabel('predict')\n",
        "plt.show()"
      ],
      "metadata": {
        "colab": {
          "base_uri": "https://localhost:8080/",
          "height": 608
        },
        "id": "TA90QfWQ_bt5",
        "outputId": "683dfb3e-7675-4d3e-ddf0-6a43157790e1"
      },
      "execution_count": null,
      "outputs": [
        {
          "output_type": "display_data",
          "data": {
            "text/plain": [
              "<Figure size 900x700 with 1 Axes>"
            ],
            "image/png": "[encoded data removed]"
          },
          "metadata": {
            "needs_background": "light"
          }
        }
      ]
    },
    {
      "cell_type": "code",
      "source": [
        "from sklearn.linear_model import Lasso\n",
        "lasso=Lasso(alpha=0.1)\n",
        "lasso.fit(x,y)\n",
        "coeef=lasso.coef_"
      ],
      "metadata": {
        "id": "831EjeIqALfC"
      },
      "execution_count": null,
      "outputs": []
    },
    {
      "cell_type": "code",
      "source": [
        "coeef"
      ],
      "metadata": {
        "colab": {
          "base_uri": "https://localhost:8080/"
        },
        "id": "KnsXtXjbBE5h",
        "outputId": "a6cd09da-448a-4514-e20a-63ae5386002c"
      },
      "execution_count": null,
      "outputs": [
        {
          "output_type": "execute_result",
          "data": {
            "text/plain": [
              "array([ 1526.06074185,  -675.62408714, -1921.93310693, -5956.8264977 ,\n",
              "       -1503.75208188,  -779.0869841 ])"
            ]
          },
          "metadata": {},
          "execution_count": 78
        }
      ]
    },
    {
      "cell_type": "code",
      "source": [
        "df.columns"
      ],
      "metadata": {
        "colab": {
          "base_uri": "https://localhost:8080/"
        },
        "id": "nB3rV6DzBHLA",
        "outputId": "01a37442-6d09-4f0d-efbe-1edd46cbb8ec"
      },
      "execution_count": null,
      "outputs": [
        {
          "output_type": "execute_result",
          "data": {
            "text/plain": [
              "Index(['Temperature', 'L', 'R', 'A_M', 'Color', 'Spectral_Class', 'Type'], dtype='object')"
            ]
          },
          "metadata": {},
          "execution_count": 79
        }
      ]
    },
    {
      "cell_type": "code",
      "source": [
        "ii=['L', 'R', 'A_M', 'Color', 'Spectral_Class', 'Type']\n",
        "plt.plot(ii,coeef)"
      ],
      "metadata": {
        "colab": {
          "base_uri": "https://localhost:8080/",
          "height": 283
        },
        "id": "ySlJ9d1-BLop",
        "outputId": "9288bf74-08c1-4201-863c-c5db47c3462c"
      },
      "execution_count": null,
      "outputs": [
        {
          "output_type": "execute_result",
          "data": {
            "text/plain": [
              "[<matplotlib.lines.Line2D at 0x7fa6532fa710>]"
            ]
          },
          "metadata": {},
          "execution_count": 80
        },
        {
          "output_type": "display_data",
          "data": {
            "text/plain": [
              "<Figure size 432x288 with 1 Axes>"
            ],
            "image/png": "[encoded data removed]"
          },
          "metadata": {
            "needs_background": "light"
          }
        }
      ]
    }
  ]
}